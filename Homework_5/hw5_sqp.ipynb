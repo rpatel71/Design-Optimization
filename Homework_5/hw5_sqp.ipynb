{
  "nbformat": 4,
  "nbformat_minor": 0,
  "metadata": {
    "colab": {
      "provenance": [],
      "authorship_tag": "ABX9TyOY3sqgdde8QQfBcfNc8U5g",
      "include_colab_link": true
    },
    "kernelspec": {
      "name": "python3",
      "display_name": "Python 3"
    },
    "language_info": {
      "name": "python"
    }
  },
  "cells": [
    {
      "cell_type": "markdown",
      "metadata": {
        "id": "view-in-github",
        "colab_type": "text"
      },
      "source": [
        "<a href=\"https://colab.research.google.com/github/rpatel71/Design-Optimization/blob/main/Homework_5/hw5_sqp.ipynb\" target=\"_parent\"><img src=\"https://colab.research.google.com/assets/colab-badge.svg\" alt=\"Open In Colab\"/></a>"
      ]
    },
    {
      "cell_type": "code",
      "source": [
        "# importing all the libraries\n",
        "import numpy as np\n",
        "from matplotlib import pyplot as plt\n",
        "import torch as t"
      ],
      "metadata": {
        "id": "0at6zUO7sZ-a"
      },
      "execution_count": null,
      "outputs": []
    },
    {
      "cell_type": "code",
      "execution_count": null,
      "metadata": {
        "id": "qeNoc9zV6w1f"
      },
      "outputs": [],
      "source": [
        "# defining the objective function as well as inequality constraints\n",
        "function = lambda x: x[0]**2 + (x[1] - 3)**2\n",
        "g_1 = lambda x: x[1]**2 - 2*x[0]\n",
        "g_2 = lambda x: (x[1]-1)**2 + 5*x[0]-15\n",
        "\n",
        "grad_fun = lambda x : t.tensor([[2 * x[0], 2 * (x[1] - 3)]])\n",
        "grad_g_1 = lambda x : t.tensor([[-2, 2 * x[1]]])\n",
        "grad_g_2= lambda x: t.tensor([[5, 2 * (x[1] - 1)]])\n",
        "\n",
        "g = lambda x: t.tensor([g_1(x), g_2(x)])\n",
        "grad_g = t.tensor[grad_g_1, grad_g_2]"
      ]
    },
    {
      "cell_type": "code",
      "source": [
        "# function for updating weights for the merit function\n",
        "def update_weights(mu, w, iter)\n",
        "  if iter>0:\n",
        "    w = t.max(abs(mu), 0.5 *(w + abs(mu)))\n",
        "  else:\n",
        "    w = abs(mu)\n",
        "  return w\n",
        "\n",
        "# function which calculates F(alpha)\n",
        "def fun_alp(x, w, alpha, s):\n",
        "  new_fun = function(x + alpha*s) +  w[0,:] * max(0, g_1(x + alpha*s)) + w[1,:]* max(0, g_2(x + alpha*s))\n",
        "  return new_fun"
      ],
      "metadata": {
        "id": "N8zOWzWP3Zfr"
      },
      "execution_count": null,
      "outputs": []
    },
    {
      "cell_type": "code",
      "source": [
        "# funciton for calculating the armijo linesearch algorithm\n",
        "def line_Search(x, mu, w, s, iter):\n",
        "  t = 0.5\n",
        "  alpha = 1\n",
        "  w = update_weights(mu, w, iter)\n",
        "  if g_1(x) <= 0:\n",
        "    Dg1Da = 0\n",
        "  else:\n",
        "    Dg1Da = t.matmul(grad_g_1(x), s)\n",
        "\n",
        "  if g2(x) <= 0:\n",
        "    Dg2Da = 0\n",
        "  else:\n",
        "    Dg2Da = t.matmul(grad_g_1(x), s)\n",
        "  \n",
        "  dfun_da = t.matmul(grad_fun(x), s) + (w[0, :] * Dg1Da + w[1, :] * Dg2Da)\n",
        "\n",
        "  phi = lambda x, t, alpha, w, dfun_da: fun_alp(x, w, 0, 0) + t * alpha * dfun_da\n",
        "\n",
        "  while phi(x, t, alpha, w, dfun_da) < fun_alp(x, w, alpha, s):\n",
        "    alpha = alpha/2\n",
        "  return alpha, w"
      ],
      "metadata": {
        "id": "GGbyli-h9aC_"
      },
      "execution_count": null,
      "outputs": []
    },
    {
      "cell_type": "code",
      "source": [
        "# function for approximating the Hessian via Broyden-Fletcher-Goldfarb-Shanno(BFGS) Method\n",
        "def bfgs(x, Lxx, s, mu, alpha):\n",
        "  grad_l_k = grad_fun(x) + t.matmul(mu.T, g(x))\n",
        "  x_up = x + s *alpha \n",
        "  grad_l_kp1 = grad_fun(x) + t.matmul(mu.T, g(x_up))\n",
        "\n",
        "  delt_l = grad_l_kp1 - grad_l_k\n",
        "\n",
        "  Q = t.matmul(t.matmul(s*alpha).T, Lxx), (alpha*s))\n",
        "  if t.matmul((s*alpha).T, delt_l.T) >= 0.2 * t.matmul(t.matmul((alpha*s).T, Lxx), (alpha*s)):\n",
        "    th = 1\n",
        "  else:\n",
        "    th = 0.8*Q / (Q-t.matmul((alpha*s).T, delt_l.T))\n",
        "  y = th * delt_l.T + (1-th)*t.matmul(Lxx, (alpha*s))\n",
        "  Lxx = Lxx + t.matmul(y, y.T) / t.matmul(y.T, s) - t.matmul(t.matmul(Lxx, s), t.matmul(s.T, Lxx))/t.matmul(t.matmul(s.T, Lxx), s)\n",
        "  return Lxx"
      ],
      "metadata": {
        "id": "yDA5nzhiD-jk"
      },
      "execution_count": null,
      "outputs": []
    },
    {
      "cell_type": "code",
      "source": [
        "def check_lag_multiplier(mu, act_set):\n",
        "  mu_check = 0\n",
        "  if len(mu) == 0 or min(mu) > 0:\n",
        "    mu_check = 1\n",
        "  else:\n",
        "    mu_idx = np.argmin(np.array(mu))\n",
        "    mu = mu[mu!=min(mu)]\n",
        "    act_set.pop(mu_idx)\n",
        "  return act_set, mu_check, mu"
      ],
      "metadata": {
        "id": "gRAN3KJsL_4U"
      },
      "execution_count": null,
      "outputs": []
    }
  ]
}