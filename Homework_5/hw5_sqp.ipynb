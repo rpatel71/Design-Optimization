{
  "nbformat": 4,
  "nbformat_minor": 0,
  "metadata": {
    "colab": {
      "provenance": [],
      "authorship_tag": "ABX9TyOYijm+aNskqMn2PjwQihjE",
      "include_colab_link": true
    },
    "kernelspec": {
      "name": "python3",
      "display_name": "Python 3"
    },
    "language_info": {
      "name": "python"
    }
  },
  "cells": [
    {
      "cell_type": "markdown",
      "metadata": {
        "id": "view-in-github",
        "colab_type": "text"
      },
      "source": [
        "<a href=\"https://colab.research.google.com/github/rpatel71/Design-Optimization/blob/main/Homework_5/hw5_sqp.ipynb\" target=\"_parent\"><img src=\"https://colab.research.google.com/assets/colab-badge.svg\" alt=\"Open In Colab\"/></a>"
      ]
    },
    {
      "cell_type": "code",
      "source": [
        "# importing all the libraries\n",
        "import numpy as np\n",
        "from matplotlib import pyplot as plt\n",
        "import torch as t"
      ],
      "metadata": {
        "id": "0at6zUO7sZ-a"
      },
      "execution_count": 1,
      "outputs": []
    },
    {
      "cell_type": "code",
      "execution_count": 2,
      "metadata": {
        "id": "qeNoc9zV6w1f"
      },
      "outputs": [],
      "source": [
        "# defining the objective function as well as inequality constraints\n",
        "function = lambda x: x[0]**2 + (x[1] - 3)**2\n",
        "g_1 = lambda x: x[1]**2 - 2*x[0]\n",
        "g_2 = lambda x: (x[1]-1)**2 + 5*x[0]-15\n",
        "grad_fun  = lambda x : t.tensor([[2 * x[0], 2 * (x[1] - 3)]])\n",
        "grad_g_1 = lambda x : t.tensor([[-2, 2 * x[1]]])\n",
        "grad_g_2 = lambda x: t.tensor([[5, 2 * (x[1] - 1)]])"
      ]
    },
    {
      "cell_type": "code",
      "source": [
        "# function for updating weights for the merit function\n",
        "def update_weights(lam, w, k):\n",
        "  if k > 0:\n",
        "    w = t.max(abs(lam), 0.5 *(w + abs(lam)))\n",
        "  else:\n",
        "    w = abs(lam)\n",
        "  return w\n",
        "\n",
        "# function which calculates F(alpha)\n",
        "def fun_alp(x,w,alpha,s):\n",
        "  new_fun = function(x + alpha*s) +  w[0,:] * max(0, g_1(x + alpha*s)) + w[1,:]* max(0, g_2(x + alpha*s))\n",
        "  return new_fun"
      ],
      "metadata": {
        "id": "N8zOWzWP3Zfr"
      },
      "execution_count": 3,
      "outputs": []
    },
    {
      "cell_type": "code",
      "source": [
        "# function for calculating the armijo linesearch algorithm\n",
        "def line_Search(x,lam,w,s,k):\n",
        "    t_t = 0.2\n",
        "    alpha = 1\n",
        "    w = update_weights(lam, w,k)\n",
        "    if g_1(x) <= 0:\n",
        "       Dg1Da = 0\n",
        "    else:\n",
        "      Dg1Da= t.matmul(grad_g_1(x), s)\n",
        "\n",
        "    if g_2(x) <= 0:\n",
        "       Dg2Da = 0\n",
        "    else:\n",
        "      Dg2Da= t.matmul(grad_g_2(x), s)\n",
        "\n",
        "    dfun_da = t.matmul(grad_fun(x), s) + (w[0, :] * Dg1Da + w[1, :] * Dg2Da)\n",
        "\n",
        "    phi = lambda x, w, alpha, t_t, dfun_da: fun_alp(x, w, 0, 0) + alpha * t_t * dfun_da\n",
        "\n",
        "    while phi(x, w, alpha, t_t, dfun_da) < fun_alp(x, w, alpha, s):\n",
        "        alpha = 0.5 * alpha\n",
        "    return alpha, w"
      ],
      "metadata": {
        "id": "GGbyli-h9aC_"
      },
      "execution_count": 4,
      "outputs": []
    },
    {
      "cell_type": "code",
      "source": [
        "# function for approximating the Hessian via Broyden-Fletcher-Goldfarb-Shanno(BFGS) Method\n",
        "def bfgs(x,Lxx, s, lam, alpha):\n",
        "  grad_l_k = grad_fun(x) + t.matmul(lam.T, t.tensor([g_1(x),g_2(x)]))\n",
        "  grad_l_kp1 = grad_fun(x + alpha*s) + t.matmul(lam.T, t.tensor([g_1(x + alpha*s),g_2(x + alpha*s )]))\n",
        "\n",
        "  delta_l = grad_l_kp1 -grad_l_k\n",
        "  \n",
        "  Q = t.matmul(t.matmul((alpha*s).T, Lxx), (alpha*s))\n",
        "  if t.matmul((alpha*s).T, delta_l.T) >= 0.2 * t.matmul(t.matmul((alpha*s).T, Lxx), (alpha*s)):\n",
        "        th = 1\n",
        "  else:\n",
        "        th = 0.8 * Q / (Q - t.matmul((alpha*s).T, delta_l.T))\n",
        "  y = th * delta_l.T + (1 - th) * t.matmul(Lxx, (alpha*s))\n",
        "  Lxx = Lxx + t.matmul(y, y.T) / t.matmul(y.T, s) - t.matmul(t.matmul(Lxx, s), t.matmul(s.T, Lxx)) / t.matmul(t.matmul(s.T, Lxx), s)\n",
        "  return Lxx"
      ],
      "metadata": {
        "id": "yDA5nzhiD-jk"
      },
      "execution_count": 5,
      "outputs": []
    },
    {
      "cell_type": "code",
      "source": [
        "def check_lag_multiplier(lam,active_set):\n",
        "    lam_check = 0\n",
        "    if len(lam) == 0 or min(lam) > 0:\n",
        "        lam_check  = 1\n",
        "    else:\n",
        "        lam_idx = np.argmin(np.array(lam))\n",
        "        lam = lam[lam!=min(lam)]\n",
        "        active_set.pop(lam_idx)\n",
        "    return active_set, lam_check ,lam"
      ],
      "metadata": {
        "id": "gRAN3KJsL_4U"
      },
      "execution_count": 6,
      "outputs": []
    },
    {
      "cell_type": "code",
      "source": [
        "def sol_qp(x, Lxx):\n",
        "    active_set = []\n",
        "    init_A = t.cat((grad_g_1(x),grad_g_2(x)),0)\n",
        "    init_B=t.tensor([[g_1(x), g_2(x)]]).T\n",
        "    init_lam = t.zeros((init_B.shape[0], 1))\n",
        "    lam = []\n",
        "    while True:\n",
        "      if len(active_set) == 0:\n",
        "            s_lam = t.matmul(t.linalg.inv(Lxx), -grad_fun(x).T)\n",
        "            s = s_lam[:2, :]\n",
        "      if len(active_set) > 0:\n",
        "        if len(active_set) == 1:\n",
        "                A = init_A[active_set[0], :].reshape(1, -1)\n",
        "                B = init_B[active_set[0], :].reshape(1,1)\n",
        "        if len(active_set) == 2:\n",
        "                A = init_A\n",
        "                B = init_B\n",
        "                \n",
        "        Z = t.zeros((A.shape[0], A.shape[0]))\n",
        "        matrix=t.cat((t.cat((Lxx,A.T),1),t.cat((A,Z),1)),0)\n",
        "        j=t.cat((-grad_fun(x).T,-B),0)\n",
        "        s_lam = t.matmul(t.linalg.inv(matrix), j)\n",
        "        s = s_lam[:2, :]\n",
        "        lam = s_lam[2:, :]\n",
        "\n",
        "      if len(lam) == 1:\n",
        "          init_lam[0] = s_lam[2:3, :]\n",
        "      if len(lam) == 2:\n",
        "          init_lam[0] = s_lam[2:3, :]\n",
        "          init_lam[1] = s_lam[3:, :]\n",
        "\n",
        "      const_sqp = t.round((t.matmul(init_A, s.reshape(-1, 1)) + init_B))\n",
        "      active_set, check_mu,lam = check_lag_multiplier(lam,active_set)\n",
        "\n",
        "      if t.max(const_sqp) <= 0 and check_mu == 1:\n",
        "            return s, init_lam\n",
        "      else:\n",
        "          index = np.argmax(const_sqp)\n",
        "          active_set.append(index)\n",
        "          active_set = np.unique(np.array(active_set)).tolist()"
      ],
      "metadata": {
        "id": "P5F5X26xTrRY"
      },
      "execution_count": 7,
      "outputs": []
    },
    {
      "cell_type": "code",
      "source": [
        "x = t.tensor([[1,1.]]).T\n",
        "init_x = x\n",
        "lam = t.zeros((x.shape[0], 1))\n",
        "w = t.zeros((x.shape[0], 1))+2\n",
        "Lxx = t.eye(x.shape[0])\n",
        "eps = 1e-4\n",
        "k = 0\n",
        "\n",
        "norm_delt_L = np.linalg.norm(grad_fun(x) + np.matmul(lam.T, t.cat((grad_g_1(x),grad_g_2(x)),0)))\n",
        "\n",
        "while norm_delt_L > eps:\n",
        "    s, lam = sol_qp(x, Lxx)\n",
        "    alpha, w = line_Search(x,lam,w,s,k)\n",
        "    Lxx = bfgs(x,Lxx, s, lam, alpha) \n",
        "    x += alpha*s\n",
        "    k += 1\n",
        "    norm_delt_L = np.linalg.norm(grad_fun(x) + np.matmul(lam.T, t.cat((grad_g_1(x),grad_g_2(x)),0)))"
      ],
      "metadata": {
        "id": "POS1M0AQaRPl"
      },
      "execution_count": 8,
      "outputs": []
    },
    {
      "cell_type": "code",
      "source": [
        "print(f'The solution X is = ({x[0][0]}, {x[1][0]})')"
      ],
      "metadata": {
        "id": "5AwUjSbncar6",
        "outputId": "beacd1f2-464c-4ed5-aa5a-8b17b1e9f63f",
        "colab": {
          "base_uri": "https://localhost:8080/"
        }
      },
      "execution_count": 12,
      "outputs": [
        {
          "output_type": "stream",
          "name": "stdout",
          "text": [
            "The solution X is = (1.0601987838745117, 1.4561585187911987)\n"
          ]
        }
      ]
    },
    {
      "cell_type": "code",
      "source": [
        "print(f\"objective function's minimum value is: {function([x[0][0],x[1][0]])}\")\n",
        "print(f\"The value of inequality constraints is given as:   g1 = {g_1([x[0][0],x[1][0]])},      g2 = {g_2([x[0][0],x[1][0]])}\")"
      ],
      "metadata": {
        "id": "Xv7_YRssxSeA",
        "outputId": "c7e5a583-659a-4a65-d8d5-393ec1551102",
        "colab": {
          "base_uri": "https://localhost:8080/"
        }
      },
      "execution_count": 15,
      "outputs": [
        {
          "output_type": "stream",
          "name": "stdout",
          "text": [
            "objective function's minimum value is: 3.507467746734619\n",
            "The value of inequality constraints is given as:   g1 = 0.0,      g2 = -9.490924835205078\n"
          ]
        }
      ]
    }
  ]
}