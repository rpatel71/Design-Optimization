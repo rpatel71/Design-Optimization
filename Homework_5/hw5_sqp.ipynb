{
  "nbformat": 4,
  "nbformat_minor": 0,
  "metadata": {
    "colab": {
      "provenance": [],
      "authorship_tag": "ABX9TyNuC3eYXMghk1aNm92mcBAB",
      "include_colab_link": true
    },
    "kernelspec": {
      "name": "python3",
      "display_name": "Python 3"
    },
    "language_info": {
      "name": "python"
    }
  },
  "cells": [
    {
      "cell_type": "markdown",
      "metadata": {
        "id": "view-in-github",
        "colab_type": "text"
      },
      "source": [
        "<a href=\"https://colab.research.google.com/github/rpatel71/Design-Optimization/blob/main/Homework_5/hw5_sqp.ipynb\" target=\"_parent\"><img src=\"https://colab.research.google.com/assets/colab-badge.svg\" alt=\"Open In Colab\"/></a>"
      ]
    },
    {
      "cell_type": "code",
      "source": [
        "# importing all the libraries\n",
        "import numpy as np\n",
        "from matplotlib import pyplot as plt\n",
        "import torch as t"
      ],
      "metadata": {
        "id": "0at6zUO7sZ-a"
      },
      "execution_count": null,
      "outputs": []
    },
    {
      "cell_type": "code",
      "execution_count": null,
      "metadata": {
        "id": "qeNoc9zV6w1f"
      },
      "outputs": [],
      "source": [
        "# defining the objective function as well as inequality constraints\n",
        "function = lambda x: x[0]**2 + (x[1] - 3)**2\n",
        "const_1 = lambda x: x[1]**2 - 2*x[0]\n",
        "const_2 = lambda x: (x[1]-1)**2 + 5*x[0]-15\n",
        "\n",
        "grad_function = lambda x : torch.tensor([[2 * x[0], 2 * (x[1] - 3)]])\n",
        "grad_const_1 = lambda x : torch.tensor([[-2, 2 * x[1]]])\n",
        "grad_const_2= lambda x: torch.tensor([[5, 2 * (x[1] - 1)]])\n",
        "\n",
        "g = t.tensor[const_1, const_2]\n",
        "grad_g = t.tensor[grad_const_1, grad_const_2]"
      ]
    }
  ]
}