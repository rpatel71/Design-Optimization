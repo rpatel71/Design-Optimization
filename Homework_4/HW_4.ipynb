{
  "nbformat": 4,
  "nbformat_minor": 0,
  "metadata": {
    "colab": {
      "provenance": [],
      "authorship_tag": "ABX9TyO2CTDrh3tj/kPRVErbolVC",
      "include_colab_link": true
    },
    "kernelspec": {
      "name": "python3",
      "display_name": "Python 3"
    },
    "language_info": {
      "name": "python"
    },
    "accelerator": "TPU",
    "gpuClass": "standard"
  },
  "cells": [
    {
      "cell_type": "markdown",
      "metadata": {
        "id": "view-in-github",
        "colab_type": "text"
      },
      "source": [
        "<a href=\"https://colab.research.google.com/github/rpatel71/Design-Optimization/blob/main/Homework_4/HW_4.ipynb\" target=\"_parent\"><img src=\"https://colab.research.google.com/assets/colab-badge.svg\" alt=\"Open In Colab\"/></a>"
      ]
    },
    {
      "cell_type": "markdown",
      "source": [
        "Design Optimization: Homework-4: Problem-4"
      ],
      "metadata": {
        "id": "gmuXnoprZBYT"
      }
    },
    {
      "cell_type": "code",
      "execution_count": 1,
      "metadata": {
        "id": "n5k3fLi60ZYt"
      },
      "outputs": [],
      "source": [
        "import numpy as np\n",
        "from matplotlib import pyplot as plt\n",
        "import torch as t\n",
        "from torch.autograd import Variable\n",
        "from torch.autograd.functional import jacobian\n",
        "from numpy.linalg import inv"
      ]
    },
    {
      "cell_type": "code",
      "source": [
        "fun = lambda x: (x[0] ** 2 + x[1] ** 2 + x[2] ** 2)   # Objective function\n",
        "const1 = lambda x: ((x[0] ** 2) / 4) + ((x[1] ** 2) / 5) + ((x[2] ** 2) / 25) - 1   # Constraint 1 from the given constraints\n",
        "const2 = lambda x: (x[0] + x[1] - x[2])   # Constraint 2 from the given constaints\n",
        "\n",
        "x = Variable(t.tensor([1.1, 1.1, 1.1]), requires_grad=True)\n",
        "E = 1e-03"
      ],
      "metadata": {
        "id": "dwj3RIsz2MJc"
      },
      "execution_count": 2,
      "outputs": []
    },
    {
      "cell_type": "markdown",
      "source": [
        "Here, we know that, we have n=3 and constraints m=2. \n",
        "\n",
        "So, we have Decision variables = n - m = 1, and State variables = m = 2.\n",
        "\n",
        "So, Decision variables (d) = [x1] and state variables (s) = [x2, x3]"
      ],
      "metadata": {
        "id": "uYHbgQ-RnYcV"
      }
    },
    {
      "cell_type": "code",
      "source": [
        "def h(x):\n",
        "  var = t.tensor([const1(x), const2(x)])   # h is an array of constraints\n",
        "  return var"
      ],
      "metadata": {
        "id": "eyQg7iI0f0Qt"
      },
      "execution_count": null,
      "outputs": []
    },
    {
      "cell_type": "code",
      "source": [
        "def red_grad(fun, const1, const2, x): # This function calculates the Reduced Gradient\n",
        "  # compute jacobian for the function and constraints\n",
        "  jac = t.zeros((3, 3))\n",
        "  jac[0] = jacobian(fun, (x))\n",
        "  jac[1] = jacobian(const1, (x))\n",
        "  jac[2] = jacobian(const2, (x))  \n",
        "\n",
        "  # Variables we need, to calculate reduced function\n",
        "  dfdd = jac[0,0]\n",
        "  dfds = jac[0,1:]\n",
        "  dhds = jac[1:,1:]\n",
        "  dhdd = jac[1:,0]\n",
        "\n",
        "  # Finding the reduced gradient\n",
        "  inv_dhds = t.pinverse(dhds)\n",
        "  dfds_inv_dhds = t.matmul(dfds, inv_dhds)\n",
        "  red_g = dfdd - t.matmul(dfds_inv_dhds, dhdd)\n",
        "\n",
        "  return red_g, dfdd, dfds, dhds, dhdd"
      ],
      "metadata": {
        "id": "v2-VK1CwnNzL"
      },
      "execution_count": 3,
      "outputs": []
    },
    {
      "cell_type": "code",
      "source": [
        "# Defining a function which improves x for line search\n",
        "def imp_x(a, x):\n",
        "  x_imp = t.zeros(3)\n",
        "  red_g, dfdd, dfds, dhds, dhdd = red_grad(fun, const1, const2, x)\n",
        "  x_imp[0] = x[0] - a*red_g\n",
        "  inv_dhds = t.pinverse(dhds)\n",
        "  x_imp[1:] = x[1:] + (a * (t.matmul(inv_dhds, dhdd)) * red_g)\n",
        "  return x_imp\n",
        "\n",
        "\n",
        "# Define Line search algorithm\n",
        "def line_search(x, max_iter):\n",
        "  iter = 0  # iterations\n",
        "  a = 1 # Alpha\n",
        "  tr = 0.5\n",
        "  red_g, dfdd, dfds, dhds, dhdd = red_grad(fun, const1, const2, x)\n",
        "  f = fun(imp_x(a, x))\n",
        "  phi = fun(x) - (tr * a * (red_g ** 2))\n",
        "  while f > phi and iter < max_iter:\n",
        "    a = 0.5*a\n",
        "    f = fun(imp_x(a, x))\n",
        "    phi = fun(x) - (tr * a * (red_g ** 2))\n",
        "    iter += 1\n",
        "  return a"
      ],
      "metadata": {
        "id": "xdJy8y_WvTWc"
      },
      "execution_count": 4,
      "outputs": []
    },
    {
      "cell_type": "code",
      "source": [
        "# Define function of Levenberg -Marquardt Algorithm\n",
        "def Lev_Marq(x):\n",
        "  lam = 1.\n",
        "  mod = t.norm(h(x))\n",
        "  while mod > 1e-06:\n",
        "    red_g, dfdd, dfds, dhds, dhdd = red_grad(fun, const1, const2, x)\n",
        "    with t.no_grad():\n",
        "      inv = t.pinverse(t.matmul(dhds.T, dhds) + lam * t.eye(2))\n",
        "      calc = t.matmul(t.matmul(inv, dhds.T), h(x))\n",
        "      x[1:] = x[1:] - calc\n",
        "    mod = t.norm(h(x))\n",
        "  return x"
      ],
      "metadata": {
        "id": "1nrRwtW7WUAV"
      },
      "execution_count": 5,
      "outputs": []
    },
    {
      "cell_type": "code",
      "source": [
        "# Defining Generalized Reduced Gradient function\n",
        "def gen_red_grad(x, E = 1e-03):\n",
        "  x_num = x.detach().numpy()\n",
        "  print(f'Here, the initial value of x is: {x_num} at iteration 0.')\n",
        "  x = Lev_Marq(x)\n",
        "  print(f'\\n the feasible value of x is: {x} at iteration 0')\n",
        "  x_num = np.vstack((x_num, x.detach().numpy()))\n",
        "  obj_fun = [fun(x).item()]\n",
        "  a_val = [1]\n",
        "  red_g, dfdd, dfds, dhds, dhdd = red_grad(fun, const1, const2, x)\n",
        "  err = t.norm(red_g)\n",
        "  error = [err]\n",
        "  iter = 0\n",
        "  while err > E:\n",
        "    a = line_search(x, 25)\n",
        "    red_g, dfdd, dfds, dhds, dhdd = red_grad(fun, const1, const2, x)\n",
        "    with t.no_grad():\n",
        "      x[0] = x[0] - a * red_g\n",
        "      inv_dhds = t.pinverse(dhds)\n",
        "      x[1:] = x[1:] + (a * np.matmul(inv_dhds, dhdd) * red_g)\n",
        "      x = Lev_Marq(x)\n",
        "      err = t.norm(red_g)\n",
        "      x_num = np.vstack((x_num, x.detach().numpy()))\n",
        "      obj_fun.append(fun(x).item())\n",
        "      a_val.append(a)\n",
        "      error.append(err)\n",
        "      iter += 1\n",
        "  return x_num, obj_fun, a_val, error, iter"
      ],
      "metadata": {
        "id": "zYHvALok5B3t"
      },
      "execution_count": 6,
      "outputs": []
    },
    {
      "cell_type": "code",
      "source": [
        "x_num, obj_fun, a_val, error, iter = gen_red_grad(x)"
      ],
      "metadata": {
        "colab": {
          "base_uri": "https://localhost:8080/",
          "height": 363
        },
        "id": "2EWDjDOyGXT_",
        "outputId": "7801799b-06a1-42bc-86cd-4811b7301f75"
      },
      "execution_count": 7,
      "outputs": [
        {
          "output_type": "stream",
          "name": "stdout",
          "text": [
            "Here, the initial value of x is: [1.1 1.1 1.1] at iteration 0.\n",
            "\n",
            " the feasible value of x is: tensor([1.1000, 1.4714, 2.5714], requires_grad=True) at iteration 0\n"
          ]
        },
        {
          "output_type": "error",
          "ename": "KeyboardInterrupt",
          "evalue": "ignored",
          "traceback": [
            "\u001b[0;31m---------------------------------------------------------------------------\u001b[0m",
            "\u001b[0;31mKeyboardInterrupt\u001b[0m                         Traceback (most recent call last)",
            "\u001b[0;32m<ipython-input-7-d5833f9c193c>\u001b[0m in \u001b[0;36m<module>\u001b[0;34m\u001b[0m\n\u001b[0;32m----> 1\u001b[0;31m \u001b[0mx_num\u001b[0m\u001b[0;34m,\u001b[0m \u001b[0mobj_fun\u001b[0m\u001b[0;34m,\u001b[0m \u001b[0ma_val\u001b[0m\u001b[0;34m,\u001b[0m \u001b[0merror\u001b[0m\u001b[0;34m,\u001b[0m \u001b[0miter\u001b[0m \u001b[0;34m=\u001b[0m \u001b[0mgen_red_grad\u001b[0m\u001b[0;34m(\u001b[0m\u001b[0mx\u001b[0m\u001b[0;34m)\u001b[0m\u001b[0;34m\u001b[0m\u001b[0;34m\u001b[0m\u001b[0m\n\u001b[0m",
            "\u001b[0;32m<ipython-input-6-3da07132ad87>\u001b[0m in \u001b[0;36mgen_red_grad\u001b[0;34m(x, E)\u001b[0m\n\u001b[1;32m     19\u001b[0m       \u001b[0minv_dhds\u001b[0m \u001b[0;34m=\u001b[0m \u001b[0mt\u001b[0m\u001b[0;34m.\u001b[0m\u001b[0mpinverse\u001b[0m\u001b[0;34m(\u001b[0m\u001b[0mdhds\u001b[0m\u001b[0;34m)\u001b[0m\u001b[0;34m\u001b[0m\u001b[0;34m\u001b[0m\u001b[0m\n\u001b[1;32m     20\u001b[0m       \u001b[0mx\u001b[0m\u001b[0;34m[\u001b[0m\u001b[0;36m1\u001b[0m\u001b[0;34m:\u001b[0m\u001b[0;34m]\u001b[0m \u001b[0;34m=\u001b[0m \u001b[0mx\u001b[0m\u001b[0;34m[\u001b[0m\u001b[0;36m1\u001b[0m\u001b[0;34m:\u001b[0m\u001b[0;34m]\u001b[0m \u001b[0;34m+\u001b[0m \u001b[0;34m(\u001b[0m\u001b[0ma\u001b[0m \u001b[0;34m*\u001b[0m \u001b[0mnp\u001b[0m\u001b[0;34m.\u001b[0m\u001b[0mmatmul\u001b[0m\u001b[0;34m(\u001b[0m\u001b[0minv_dhds\u001b[0m\u001b[0;34m,\u001b[0m \u001b[0mdhdd\u001b[0m\u001b[0;34m)\u001b[0m \u001b[0;34m*\u001b[0m \u001b[0mred_g\u001b[0m\u001b[0;34m)\u001b[0m\u001b[0;34m\u001b[0m\u001b[0;34m\u001b[0m\u001b[0m\n\u001b[0;32m---> 21\u001b[0;31m       \u001b[0mx\u001b[0m \u001b[0;34m=\u001b[0m \u001b[0mLev_Marq\u001b[0m\u001b[0;34m(\u001b[0m\u001b[0mx\u001b[0m\u001b[0;34m)\u001b[0m\u001b[0;34m\u001b[0m\u001b[0;34m\u001b[0m\u001b[0m\n\u001b[0m\u001b[1;32m     22\u001b[0m       \u001b[0merr\u001b[0m \u001b[0;34m=\u001b[0m \u001b[0mt\u001b[0m\u001b[0;34m.\u001b[0m\u001b[0mnorm\u001b[0m\u001b[0;34m(\u001b[0m\u001b[0mred_g\u001b[0m\u001b[0;34m)\u001b[0m\u001b[0;34m\u001b[0m\u001b[0;34m\u001b[0m\u001b[0m\n\u001b[1;32m     23\u001b[0m       \u001b[0mx_num\u001b[0m \u001b[0;34m=\u001b[0m \u001b[0mnp\u001b[0m\u001b[0;34m.\u001b[0m\u001b[0mvstack\u001b[0m\u001b[0;34m(\u001b[0m\u001b[0;34m(\u001b[0m\u001b[0mx_num\u001b[0m\u001b[0;34m,\u001b[0m \u001b[0mx\u001b[0m\u001b[0;34m.\u001b[0m\u001b[0mdetach\u001b[0m\u001b[0;34m(\u001b[0m\u001b[0;34m)\u001b[0m\u001b[0;34m.\u001b[0m\u001b[0mnumpy\u001b[0m\u001b[0;34m(\u001b[0m\u001b[0;34m)\u001b[0m\u001b[0;34m)\u001b[0m\u001b[0;34m)\u001b[0m\u001b[0;34m\u001b[0m\u001b[0;34m\u001b[0m\u001b[0m\n",
            "\u001b[0;32m<ipython-input-5-ac95775b632d>\u001b[0m in \u001b[0;36mLev_Marq\u001b[0;34m(x)\u001b[0m\n\u001b[1;32m      4\u001b[0m   \u001b[0mmod\u001b[0m \u001b[0;34m=\u001b[0m \u001b[0mt\u001b[0m\u001b[0;34m.\u001b[0m\u001b[0mnorm\u001b[0m\u001b[0;34m(\u001b[0m\u001b[0mh\u001b[0m\u001b[0;34m(\u001b[0m\u001b[0mx\u001b[0m\u001b[0;34m)\u001b[0m\u001b[0;34m)\u001b[0m\u001b[0;34m\u001b[0m\u001b[0;34m\u001b[0m\u001b[0m\n\u001b[1;32m      5\u001b[0m   \u001b[0;32mwhile\u001b[0m \u001b[0mmod\u001b[0m \u001b[0;34m>\u001b[0m \u001b[0;36m1e-06\u001b[0m\u001b[0;34m:\u001b[0m\u001b[0;34m\u001b[0m\u001b[0;34m\u001b[0m\u001b[0m\n\u001b[0;32m----> 6\u001b[0;31m     \u001b[0mred_g\u001b[0m\u001b[0;34m,\u001b[0m \u001b[0mdfdd\u001b[0m\u001b[0;34m,\u001b[0m \u001b[0mdfds\u001b[0m\u001b[0;34m,\u001b[0m \u001b[0mdhds\u001b[0m\u001b[0;34m,\u001b[0m \u001b[0mdhdd\u001b[0m \u001b[0;34m=\u001b[0m \u001b[0mred_grad\u001b[0m\u001b[0;34m(\u001b[0m\u001b[0mfun\u001b[0m\u001b[0;34m,\u001b[0m \u001b[0mconst1\u001b[0m\u001b[0;34m,\u001b[0m \u001b[0mconst2\u001b[0m\u001b[0;34m,\u001b[0m \u001b[0mx\u001b[0m\u001b[0;34m)\u001b[0m\u001b[0;34m\u001b[0m\u001b[0;34m\u001b[0m\u001b[0m\n\u001b[0m\u001b[1;32m      7\u001b[0m     \u001b[0;32mwith\u001b[0m \u001b[0mt\u001b[0m\u001b[0;34m.\u001b[0m\u001b[0mno_grad\u001b[0m\u001b[0;34m(\u001b[0m\u001b[0;34m)\u001b[0m\u001b[0;34m:\u001b[0m\u001b[0;34m\u001b[0m\u001b[0;34m\u001b[0m\u001b[0m\n\u001b[1;32m      8\u001b[0m       \u001b[0minv\u001b[0m \u001b[0;34m=\u001b[0m \u001b[0mt\u001b[0m\u001b[0;34m.\u001b[0m\u001b[0mpinverse\u001b[0m\u001b[0;34m(\u001b[0m\u001b[0mt\u001b[0m\u001b[0;34m.\u001b[0m\u001b[0mmatmul\u001b[0m\u001b[0;34m(\u001b[0m\u001b[0mdhds\u001b[0m\u001b[0;34m.\u001b[0m\u001b[0mT\u001b[0m\u001b[0;34m,\u001b[0m \u001b[0mdhds\u001b[0m\u001b[0;34m)\u001b[0m \u001b[0;34m+\u001b[0m \u001b[0mlam\u001b[0m \u001b[0;34m*\u001b[0m \u001b[0mt\u001b[0m\u001b[0;34m.\u001b[0m\u001b[0meye\u001b[0m\u001b[0;34m(\u001b[0m\u001b[0;36m2\u001b[0m\u001b[0;34m)\u001b[0m\u001b[0;34m)\u001b[0m\u001b[0;34m\u001b[0m\u001b[0;34m\u001b[0m\u001b[0m\n",
            "\u001b[0;32m<ipython-input-3-f9a14f224383>\u001b[0m in \u001b[0;36mred_grad\u001b[0;34m(fun, const1, const2, x)\u001b[0m\n\u001b[1;32m      2\u001b[0m   \u001b[0;31m# compute jacobian for the function and constraints\u001b[0m\u001b[0;34m\u001b[0m\u001b[0;34m\u001b[0m\u001b[0;34m\u001b[0m\u001b[0m\n\u001b[1;32m      3\u001b[0m   \u001b[0mjac\u001b[0m \u001b[0;34m=\u001b[0m \u001b[0mt\u001b[0m\u001b[0;34m.\u001b[0m\u001b[0mzeros\u001b[0m\u001b[0;34m(\u001b[0m\u001b[0;34m(\u001b[0m\u001b[0;36m3\u001b[0m\u001b[0;34m,\u001b[0m \u001b[0;36m3\u001b[0m\u001b[0;34m)\u001b[0m\u001b[0;34m)\u001b[0m\u001b[0;34m\u001b[0m\u001b[0;34m\u001b[0m\u001b[0m\n\u001b[0;32m----> 4\u001b[0;31m   \u001b[0mjac\u001b[0m\u001b[0;34m[\u001b[0m\u001b[0;36m0\u001b[0m\u001b[0;34m]\u001b[0m \u001b[0;34m=\u001b[0m \u001b[0mjacobian\u001b[0m\u001b[0;34m(\u001b[0m\u001b[0mfun\u001b[0m\u001b[0;34m,\u001b[0m \u001b[0;34m(\u001b[0m\u001b[0mx\u001b[0m\u001b[0;34m)\u001b[0m\u001b[0;34m)\u001b[0m\u001b[0;34m\u001b[0m\u001b[0;34m\u001b[0m\u001b[0m\n\u001b[0m\u001b[1;32m      5\u001b[0m   \u001b[0mjac\u001b[0m\u001b[0;34m[\u001b[0m\u001b[0;36m1\u001b[0m\u001b[0;34m]\u001b[0m \u001b[0;34m=\u001b[0m \u001b[0mjacobian\u001b[0m\u001b[0;34m(\u001b[0m\u001b[0mconst1\u001b[0m\u001b[0;34m,\u001b[0m \u001b[0;34m(\u001b[0m\u001b[0mx\u001b[0m\u001b[0;34m)\u001b[0m\u001b[0;34m)\u001b[0m\u001b[0;34m\u001b[0m\u001b[0;34m\u001b[0m\u001b[0m\n\u001b[1;32m      6\u001b[0m   \u001b[0mjac\u001b[0m\u001b[0;34m[\u001b[0m\u001b[0;36m2\u001b[0m\u001b[0;34m]\u001b[0m \u001b[0;34m=\u001b[0m \u001b[0mjacobian\u001b[0m\u001b[0;34m(\u001b[0m\u001b[0mconst2\u001b[0m\u001b[0;34m,\u001b[0m \u001b[0;34m(\u001b[0m\u001b[0mx\u001b[0m\u001b[0;34m)\u001b[0m\u001b[0;34m)\u001b[0m\u001b[0;34m\u001b[0m\u001b[0;34m\u001b[0m\u001b[0m\n",
            "\u001b[0;31mKeyboardInterrupt\u001b[0m: "
          ]
        }
      ]
    }
  ]
}