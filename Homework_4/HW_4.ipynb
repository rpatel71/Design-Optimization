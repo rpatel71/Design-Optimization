{
  "nbformat": 4,
  "nbformat_minor": 0,
  "metadata": {
    "colab": {
      "provenance": [],
      "authorship_tag": "ABX9TyMHWtUmGZIcHyeNIE+dsE/K",
      "include_colab_link": true
    },
    "kernelspec": {
      "name": "python3",
      "display_name": "Python 3"
    },
    "language_info": {
      "name": "python"
    }
  },
  "cells": [
    {
      "cell_type": "markdown",
      "metadata": {
        "id": "view-in-github",
        "colab_type": "text"
      },
      "source": [
        "<a href=\"https://colab.research.google.com/github/rpatel71/Design-Optimization/blob/main/Homework_4/HW_4.ipynb\" target=\"_parent\"><img src=\"https://colab.research.google.com/assets/colab-badge.svg\" alt=\"Open In Colab\"/></a>"
      ]
    },
    {
      "cell_type": "code",
      "execution_count": null,
      "metadata": {
        "id": "n5k3fLi60ZYt"
      },
      "outputs": [],
      "source": [
        "import numpy as np\n",
        "from numpy.linalg import inv"
      ]
    },
    {
      "cell_type": "code",
      "source": [
        "fun = lambda x: (x[0] ** 2 + x[1] ** 2 + x[2] ** 2)   # Objective function\n",
        "constraint_1 = lambda x: (x[0] ** 2 / 2 + x[1] ** 2 / 5 + x[2] ** 2 / 25 - 1)   # Constraint 1 from the given constraints\n",
        "constraint_2 = lambda x: (x[0] + x[1] - x[2])   # Constraint 2 from the given constaints\n",
        "\n",
        "h = np.array([cons1, cons2]   # h is an array of constraints"
      ],
      "metadata": {
        "id": "dwj3RIsz2MJc"
      },
      "execution_count": null,
      "outputs": []
    }
  ]
}