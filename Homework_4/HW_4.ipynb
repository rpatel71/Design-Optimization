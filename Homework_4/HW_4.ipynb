{
  "nbformat": 4,
  "nbformat_minor": 0,
  "metadata": {
    "colab": {
      "provenance": [],
      "authorship_tag": "ABX9TyNvM78xGEUm4AHAqSjNK9gf",
      "include_colab_link": true
    },
    "kernelspec": {
      "name": "python3",
      "display_name": "Python 3"
    },
    "language_info": {
      "name": "python"
    }
  },
  "cells": [
    {
      "cell_type": "markdown",
      "metadata": {
        "id": "view-in-github",
        "colab_type": "text"
      },
      "source": [
        "<a href=\"https://colab.research.google.com/github/rpatel71/Design-Optimization/blob/main/Homework_4/HW_4.ipynb\" target=\"_parent\"><img src=\"https://colab.research.google.com/assets/colab-badge.svg\" alt=\"Open In Colab\"/></a>"
      ]
    },
    {
      "cell_type": "markdown",
      "source": [
        "Design Optimization: Homework-4: Problem-4"
      ],
      "metadata": {
        "id": "gmuXnoprZBYT"
      }
    },
    {
      "cell_type": "code",
      "execution_count": 3,
      "metadata": {
        "id": "n5k3fLi60ZYt"
      },
      "outputs": [],
      "source": [
        "import numpy as np\n",
        "from matplotlib import pyplot as plt\n",
        "import torch as t\n",
        "from torch.autograd import Variable\n",
        "from torch.autograd.functional import jacobian\n",
        "from numpy.linalg import inv"
      ]
    },
    {
      "cell_type": "code",
      "source": [
        "fun = lambda x: (x[0] ** 2 + x[1] ** 2 + x[2] ** 2)   # Objective function\n",
        "const1 = lambda x: ((x[0] ** 2) / 4) + ((x[1] ** 2) / 5) + (((x[2] ** 2) / 25) - 1)   # Constraint 1 from the given constraints\n",
        "const2 = lambda x: (x[0] + x[1] - x[2])   # Constraint 2 from the given constaints\n",
        "\n",
        "h = np.array([const1, const2])   # h is an array of constraints\n",
        "\n",
        "x = Variable(t.tensor([1, 1., 1.]), requires_grad=True)"
      ],
      "metadata": {
        "id": "dwj3RIsz2MJc"
      },
      "execution_count": 11,
      "outputs": []
    },
    {
      "cell_type": "markdown",
      "source": [
        "Here, we know that, we have n=3 and constraints m=2. \n",
        "\n",
        "So, we have Decision variables = n - m = 1, and State variables = m = 2.\n",
        "\n",
        "So, Decision variables (d) = [x1] and state variables (s) = [x2, x3]"
      ],
      "metadata": {
        "id": "uYHbgQ-RnYcV"
      }
    },
    {
      "cell_type": "code",
      "source": [
        "\n",
        "jac = t.zeros(3, 3)\n",
        "jac[0] = jacobian(fun, x)\n",
        "jac[1] = jacobian(const1, x)\n",
        "jac[2] = jacobian(const2, x)\n",
        "\n",
        "dfdd = jac[0,0]\n",
        "dfds = jac[0,1:]\n",
        "dhds = jac[1:,1:]\n",
        "dhdd = jac[1:,0]\n",
        "print(jac)\n",
        "print(dfdd)\n",
        "print(dfds)\n",
        "print(dhds)\n",
        "print(dhdd)"
      ],
      "metadata": {
        "colab": {
          "base_uri": "https://localhost:8080/"
        },
        "id": "v2-VK1CwnNzL",
        "outputId": "8f286fc3-8731-4888-c894-2ba4b2f048b0"
      },
      "execution_count": 21,
      "outputs": [
        {
          "output_type": "stream",
          "name": "stdout",
          "text": [
            "tensor([[ 2.0000,  2.0000,  2.0000],\n",
            "        [ 0.5000,  0.4000,  0.0800],\n",
            "        [ 1.0000,  1.0000, -1.0000]])\n",
            "tensor(2.)\n",
            "tensor([2., 2.])\n",
            "tensor([[ 0.4000,  0.0800],\n",
            "        [ 1.0000, -1.0000]])\n",
            "tensor([0.5000, 1.0000])\n"
          ]
        }
      ]
    }
  ]
}