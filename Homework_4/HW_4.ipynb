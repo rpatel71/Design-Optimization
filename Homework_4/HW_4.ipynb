{
  "nbformat": 4,
  "nbformat_minor": 0,
  "metadata": {
    "colab": {
      "provenance": [],
      "authorship_tag": "ABX9TyPnCyjtlsJZ8sP6eSTpos0q",
      "include_colab_link": true
    },
    "kernelspec": {
      "name": "python3",
      "display_name": "Python 3"
    },
    "language_info": {
      "name": "python"
    }
  },
  "cells": [
    {
      "cell_type": "markdown",
      "metadata": {
        "id": "view-in-github",
        "colab_type": "text"
      },
      "source": [
        "<a href=\"https://colab.research.google.com/github/rpatel71/Design-Optimization/blob/main/Homework_4/HW_4.ipynb\" target=\"_parent\"><img src=\"https://colab.research.google.com/assets/colab-badge.svg\" alt=\"Open In Colab\"/></a>"
      ]
    },
    {
      "cell_type": "code",
      "execution_count": 6,
      "metadata": {
        "id": "n5k3fLi60ZYt"
      },
      "outputs": [],
      "source": [
        "import numpy as np\n",
        "from numpy.linalg import inv"
      ]
    },
    {
      "cell_type": "code",
      "source": [
        "fun = lambda x: (x[0] ** 2 + x[1] ** 2 + x[2] ** 2)   # Objective function\n",
        "constraint_1 = lambda x: (x[0] ** 2 / 2 + x[1] ** 2 / 5 + x[2] ** 2 / 25 - 1)   # Constraint 1 from the given constraints\n",
        "constraint_2 = lambda x: (x[0] + x[1] - x[2])   # Constraint 2 from the given constaints\n",
        "\n",
        "h = np.array([cons1, cons2]   # h is an array of constraints\n",
        "             \n",
        "def dfdd(x):\n",
        "  var = np.array([2 * x[2]])\n",
        "  return var\n",
        "\n"
      ],
      "metadata": {
        "colab": {
          "base_uri": "https://localhost:8080/",
          "height": 130
        },
        "id": "dwj3RIsz2MJc",
        "outputId": "a18bdbf7-2274-493a-9044-bd4d1a6a608c"
      },
      "execution_count": 10,
      "outputs": [
        {
          "output_type": "error",
          "ename": "SyntaxError",
          "evalue": "ignored",
          "traceback": [
            "\u001b[0;36m  File \u001b[0;32m\"<ipython-input-10-0fd96f23a421>\"\u001b[0;36m, line \u001b[0;32m7\u001b[0m\n\u001b[0;31m    def dfdd(x):\u001b[0m\n\u001b[0m      ^\u001b[0m\n\u001b[0;31mSyntaxError\u001b[0m\u001b[0;31m:\u001b[0m invalid syntax\n"
          ]
        }
      ]
    }
  ]
}