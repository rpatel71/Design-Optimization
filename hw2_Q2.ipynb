{
  "nbformat": 4,
  "nbformat_minor": 0,
  "metadata": {
    "colab": {
      "provenance": [],
      "authorship_tag": "ABX9TyMFAuqBmxm3MPz6+gciH2hx",
      "include_colab_link": true
    },
    "kernelspec": {
      "name": "python3",
      "display_name": "Python 3"
    },
    "language_info": {
      "name": "python"
    }
  },
  "cells": [
    {
      "cell_type": "markdown",
      "metadata": {
        "id": "view-in-github",
        "colab_type": "text"
      },
      "source": [
        "<a href=\"https://colab.research.google.com/github/rpatel71/Design-Optimization/blob/main/hw2_Q2.ipynb\" target=\"_parent\"><img src=\"https://colab.research.google.com/assets/colab-badge.svg\" alt=\"Open In Colab\"/></a>"
      ]
    },
    {
      "cell_type": "markdown",
      "source": [
        "Problem 2(b)"
      ],
      "metadata": {
        "id": "Kvr7anRfw6FM"
      }
    },
    {
      "cell_type": "code",
      "execution_count": 7,
      "metadata": {
        "id": "6d0FcLepXYcX"
      },
      "outputs": [],
      "source": [
        "import numpy\n",
        "from matplotlib import pyplot\n",
        "from numpy import linalg as la"
      ]
    },
    {
      "cell_type": "markdown",
      "source": [
        "Taking unconstrained function by substituting x1 = 1 - (2 * x2 + 3 * x3). Here, x[0] is x2 and x[1] is x3."
      ],
      "metadata": {
        "id": "QXhGZSrvxO1y"
      }
    },
    {
      "cell_type": "code",
      "source": [
        "function = lambda x: (2 - 2*x[0] - 3*x[1])**2 + (x[0])**2 + (x[1] - 1)**2\n",
        "\n",
        "def grad(x):\n",
        "  gradient = numpy.array([(10*x[0] + 12*x[1] - 8), (12*x[0] + 20*x[1] - 14)])\n",
        "  return gradient\n",
        "\n",
        "\n",
        "Hes = numpy.array([[10,12], [12,20]]) "
      ],
      "metadata": {
        "id": "g6zqwdIWxm3Q"
      },
      "execution_count": 4,
      "outputs": []
    },
    {
      "cell_type": "markdown",
      "source": [
        "Line-search algorithm"
      ],
      "metadata": {
        "id": "o-enyuQoXF-A"
      }
    },
    {
      "cell_type": "code",
      "source": [
        "def line_search(x):\n",
        "  t = 0.20\n",
        "  alpha = 1\n",
        "  def phi(x, alpha):\n",
        "    phi = function(x) - t * alpha * numpy.matmul(numpy.transpose(grad(x)), -1*grad(x))\n",
        "    return phi\n",
        "  while function(x - alpha * grad(x)):\n",
        "    alpha = alpha/2\n",
        "    return alpha"
      ],
      "metadata": {
        "id": "U2xTr9ILXFZG"
      },
      "execution_count": 3,
      "outputs": []
    },
    {
      "cell_type": "markdown",
      "source": [
        "Gradient-descent algorithm"
      ],
      "metadata": {
        "id": "aQ9GosGvbBPh"
      }
    },
    {
      "cell_type": "code",
      "source": [
        "def grad_descent(function, grad, Hes, iterations, x_0):\n",
        "  x_k = x_0\n",
        "  # k is current number of iterations.\n",
        "  k = 0\n",
        "  iter = [k]\n",
        "  g_norm = la.norm(grad(x_0))\n",
        "  g_norm_data = []\n",
        "  g_norm_data.append(g_norm)\n",
        "  resp = []\n",
        "  resp.append(x_0)\n",
        "  for x in range(1, iterations):\n",
        "    if g_norm> 1e-05:\n",
        "      alpha = line_search(x_k)\n",
        "      x_k = x_k - alpha*(grad(x_k))\n",
        "      resp.append(x_k)\n",
        "      g_norm = la.norm(grad(x_k))\n",
        "      g_norm_data.append(g_norm)\n",
        "      iter.append(x)\n",
        "      if k == iterations:\n",
        "        print(f'iterations have surpassed.The error is: {g_norm}')\n",
        "  return resp, g_norm_data, x_k, iter\n",
        "  error_data = []\n",
        "  print(range(len(resp)))\n",
        "  for x in range(len(resp)):\n",
        "    error = abs(function(resp[x]) - function([-1/7, 11/14]))\n",
        "    error_data.append(error)\n",
        "  x1 = 1 - (2*x[0] + 3*x[1])\n",
        "  print(f'The convergence taken place in {k}')\n",
        "  print(f'x1 = {x1}, x2 = {x_k[0]} and x3 = {x_k[1]}')\n",
        "  return x_k, error_data, resp, iter"
      ],
      "metadata": {
        "id": "odae9erIbQ3q"
      },
      "execution_count": 32,
      "outputs": []
    },
    {
      "cell_type": "markdown",
      "source": [
        "Newton's Method"
      ],
      "metadata": {
        "id": "1E30lj3N836O"
      }
    },
    {
      "cell_type": "code",
      "source": [
        "def newton_method(function, grad, Hes, iterations, x_0):\n",
        "  x_k = x_0\n",
        "  # k is current number of iterations.\n",
        "  k = 0\n",
        "  g_norm = la.norm(grad(x_0))\n",
        "  g_norm_data = []\n",
        "  g_norm_data.append(g_norm)\n",
        "  resp = []\n",
        "  resp.append(x_0)\n",
        "  for x in range(k, iterations+1):\n",
        "    if g_norm> 1e-05:\n",
        "      x_k = x_k - numpy.matmul(la.inv(Hes), grad(x_k))\n",
        "      resp.append(x_k)\n",
        "      g_norm = la.norm(grad(x_k))\n",
        "      g_norm_data.append(g_norm)\n",
        "      if k == iterations:\n",
        "        print(f'iterations have surpassed. The error is: {g_norm}')\n",
        "  return resp, g_norm_data, x_k, k\n",
        "  error_data = []\n",
        "  for x in range(len(resp)):\n",
        "    error = abs(function(resp[x]) -  function([-1/7, 11/14]))\n",
        "    error_data.append(error)\n",
        "  x1 = 1 - (2*x[0] + 3*x[1])\n",
        "  print(f'The convergence taken place in {k}')\n",
        "  print(f'x1 = {x1}, x2 = {x_k[0]} and x3 = {x_k[1]}')\n",
        "  return x_k, error_data, resp, k"
      ],
      "metadata": {
        "id": "AdKAu-2A84cf"
      },
      "execution_count": null,
      "outputs": []
    },
    {
      "cell_type": "markdown",
      "source": [
        "Plots"
      ],
      "metadata": {
        "id": "ycY1OX8Bxsm-"
      }
    },
    {
      "cell_type": "code",
      "source": [
        "fig, ax = pyplot.subplots()\n",
        "iterations = 100\n",
        "x_0 = numpy.array([0, 0])\n",
        "x_k, error_data, resp, k = grad_descent(function, grad, Hes, iterations, x_0)\n",
        "#print(k)\n",
        "#print(error_data)\n",
        "ax.plot(k, error_data, c='C0')\n",
        "ax.set_yscale = (\"log\")"
      ],
      "metadata": {
        "colab": {
          "base_uri": "https://localhost:8080/",
          "height": 331
        },
        "id": "cgI0ZMNqxuCu",
        "outputId": "712cac66-7644-4b78-c25e-c8e74221ebc0"
      },
      "execution_count": 29,
      "outputs": [
        {
          "output_type": "stream",
          "name": "stdout",
          "text": [
            "[0, 1, 2, 3, 4, 5, 6, 7, 8, 9, 10, 11, 12, 13, 14, 15, 16, 17, 18, 19, 20, 21, 22, 23, 24, 25, 26, 27, 28, 29, 30, 31, 32, 33, 34, 35, 36, 37, 38, 39, 40, 41, 42, 43, 44, 45, 46, 47, 48, 49, 50, 51, 52, 53, 54, 55, 56, 57, 58, 59, 60, 61, 62, 63, 64, 65, 66, 67, 68, 69, 70, 71, 72, 73, 74, 75, 76, 77, 78, 79, 80, 81, 82, 83, 84, 85, 86, 87, 88, 89, 90, 91, 92, 93, 94, 95, 96, 97, 98, 99]\n",
            "[16.1245154965971, 209.1219739769114, 2718.585661699848, 35341.61360209803, 459440.9768272743, 5972732.698754566, 77645525.08380936, 1009391826.0895216, 13122093739.16378, 170587218609.12915, 2217633841918.679, 28829239944942.83, 374780119284256.75, 4872141550695338.0, 6.333784015903939e+16, 8.23391922067512e+17, 1.070409498687766e+19, 1.3915323482940955e+20, 1.8089920527823243e+21, 2.3516896686170217e+22, 3.057196569202128e+23, 3.9743555399627665e+24, 5.166662201951597e+25, 6.716660862537077e+26, 8.731659121298199e+27, 1.1351156857687659e+29, 1.4756503914993955e+30, 1.918345508949214e+31, 2.4938491616339784e+32, 3.2420039101241716e+33, 4.214605083161424e+34, 5.478986608109851e+35, 7.122682590542806e+36, 9.259487367705648e+37, 1.2037333578017343e+39, 1.5648533651422548e+40, 2.034309374684931e+41, 2.64460218709041e+42, 3.4379828432175335e+43, 4.4693776961827935e+44, 5.810191005037631e+45, 7.553248306548922e+46, 9.819222798513598e+47, 1.2764989638067678e+49, 1.659448652948798e+50, 2.1572832488334376e+51, 2.8044682234834685e+52, 3.645808690528509e+53, 4.739551297687062e+54, 6.161416686993181e+55, 8.009841693091136e+56, 1.0412794201018477e+58, 1.3536632461324018e+59, 1.7597622199721224e+60, 2.287690885963759e+61, 2.9739981517528868e+62, 3.866197597278753e+63, 5.026056876462379e+64, 6.533873939401092e+65, 8.49403612122142e+66, 1.1042246957587845e+68, 1.43549210448642e+69, 1.866139735832346e+70, 2.42598165658205e+71, 3.153776153556665e+72, 4.0999089996236643e+73, 5.329881699510764e+74, 6.928846209363993e+75, 9.007500072173191e+76, 1.1709750093825147e+78, 1.522267512197269e+79, 1.97894776585645e+80, 2.572632095613385e+81, 3.344421724297401e+82, 4.34774824158662e+83, 5.652072714062606e+84, 7.347694528281388e+85, 9.552002886765805e+86, 1.2417603752795547e+88, 1.614288487863421e+89, 2.098575034222447e+90, 2.728147544489181e+91, 3.5465918078359355e+92, 4.610569350186716e+93, 5.993740155242731e+94, 7.79186220181555e+95, 1.0129420862360214e+97, 1.3168247121068278e+98, 1.7118721257388762e+99, 2.2254337634605394e+100, 2.893063892498701e+101, 3.7609830602483116e+102, 4.889277978322806e+103, 6.356061371819647e+104, 8.262879783365542e+105, 1.0741743718375204e+107, 1.3964266833887763e+108, 1.8153546884054094e+109, 2.359961094927032e+110, 3.067949423405142e+111]\n"
          ]
        },
        {
          "output_type": "display_data",
          "data": {
            "text/plain": [
              "<Figure size 432x288 with 1 Axes>"
            ],
            "image/png": "[encoded data removed]"
          },
          "metadata": {
            "needs_background": "light"
          }
        }
      ]
    }
  ]
}