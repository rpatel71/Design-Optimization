{
  "nbformat": 4,
  "nbformat_minor": 0,
  "metadata": {
    "colab": {
      "provenance": [],
      "authorship_tag": "ABX9TyNECaq95gQX4Rx3zluliiny",
      "include_colab_link": true
    },
    "kernelspec": {
      "name": "python3",
      "display_name": "Python 3"
    },
    "language_info": {
      "name": "python"
    }
  },
  "cells": [
    {
      "cell_type": "markdown",
      "metadata": {
        "id": "view-in-github",
        "colab_type": "text"
      },
      "source": [
        "<a href=\"https://colab.research.google.com/github/rpatel71/Design-Optimization/blob/main/hw2_Q2.ipynb\" target=\"_parent\"><img src=\"https://colab.research.google.com/assets/colab-badge.svg\" alt=\"Open In Colab\"/></a>"
      ]
    },
    {
      "cell_type": "markdown",
      "source": [
        "Problem 2(b)"
      ],
      "metadata": {
        "id": "Kvr7anRfw6FM"
      }
    },
    {
      "cell_type": "code",
      "execution_count": 1,
      "metadata": {
        "id": "6d0FcLepXYcX"
      },
      "outputs": [],
      "source": [
        "import numpy\n",
        "from matplotlib import pyplot"
      ]
    },
    {
      "cell_type": "markdown",
      "source": [
        "Taking unconstrained function by substituting x1 = 1 - (2 * x2 + 3 * x3). Here, x[0] is x2 and x[1] is x3."
      ],
      "metadata": {
        "id": "QXhGZSrvxO1y"
      }
    },
    {
      "cell_type": "code",
      "source": [
        "function = lambda x: (2 - 2*x[0] - 3*x[1])**2 + (x[0])**2 + (x[1] - 1)**2\n",
        "\n",
        "def grad(x):\n",
        "  gradient = numpy.array([(10*x[0] + 12*x[1] - 8), (12*x[0] + 20*x[1] - 14)])\n",
        "  return gradient\n",
        "\n",
        "\n",
        "Hes = numpy.array([[10,12], [12,20]]) "
      ],
      "metadata": {
        "id": "g6zqwdIWxm3Q"
      },
      "execution_count": 2,
      "outputs": []
    }
  ]
}