{
  "nbformat": 4,
  "nbformat_minor": 0,
  "metadata": {
    "colab": {
      "provenance": [],
      "authorship_tag": "ABX9TyO3VVknrX/KTCX0Fw+AOdp9",
      "include_colab_link": true
    },
    "kernelspec": {
      "name": "python3",
      "display_name": "Python 3"
    },
    "language_info": {
      "name": "python"
    }
  },
  "cells": [
    {
      "cell_type": "markdown",
      "metadata": {
        "id": "view-in-github",
        "colab_type": "text"
      },
      "source": [
        "<a href=\"https://colab.research.google.com/github/rpatel71/Design-Optimization/blob/main/hw2_Q2.ipynb\" target=\"_parent\"><img src=\"https://colab.research.google.com/assets/colab-badge.svg\" alt=\"Open In Colab\"/></a>"
      ]
    },
    {
      "cell_type": "markdown",
      "source": [
        "Problem 2(b)"
      ],
      "metadata": {
        "id": "Kvr7anRfw6FM"
      }
    },
    {
      "cell_type": "code",
      "execution_count": 7,
      "metadata": {
        "id": "6d0FcLepXYcX"
      },
      "outputs": [],
      "source": [
        "import numpy\n",
        "from matplotlib import pyplot\n",
        "from numpy import linalg as la"
      ]
    },
    {
      "cell_type": "markdown",
      "source": [
        "Taking unconstrained function by substituting x1 = 1 - (2 * x2 + 3 * x3). Here, x[0] is x2 and x[1] is x3."
      ],
      "metadata": {
        "id": "QXhGZSrvxO1y"
      }
    },
    {
      "cell_type": "code",
      "source": [
        "function = lambda x: (2 - 2*x[0] - 3*x[1])**2 + (x[0])**2 + (x[1] - 1)**2\n",
        "\n",
        "def grad(x):\n",
        "  gradient = numpy.array([(10*x[0] + 12*x[1] - 8), (12*x[0] + 20*x[1] - 14)])\n",
        "  return gradient\n",
        "\n",
        "\n",
        "Hes = numpy.array([[10,12], [12,20]]) "
      ],
      "metadata": {
        "id": "g6zqwdIWxm3Q"
      },
      "execution_count": 4,
      "outputs": []
    },
    {
      "cell_type": "markdown",
      "source": [
        "Line-search algorithm"
      ],
      "metadata": {
        "id": "o-enyuQoXF-A"
      }
    },
    {
      "cell_type": "code",
      "source": [
        "def line_search(x):\n",
        "  t = 0.20\n",
        "  alpha = 1\n",
        "  def phi(x, alpha):\n",
        "    phi = function(x) - t * alpha * numpy.matmul(numpy.transpose(grad(x)), -1*grad(x))\n",
        "    return phi\n",
        "  while function(x - alpha * grad(x)):\n",
        "    alpha = alpha/2\n",
        "    return alpha"
      ],
      "metadata": {
        "id": "U2xTr9ILXFZG"
      },
      "execution_count": 3,
      "outputs": []
    },
    {
      "cell_type": "markdown",
      "source": [
        "Gradient-descent algorithm"
      ],
      "metadata": {
        "id": "aQ9GosGvbBPh"
      }
    },
    {
      "cell_type": "code",
      "source": [
        "def grad_descent(function, grad, Hes, iterations, x_0):\n",
        "  x_k = x_0\n",
        "  # k is current number of iterations.\n",
        "  k = 0\n",
        "  g_norm = la.norm(grad(x_0))\n",
        "  g_norm_data = []\n",
        "  g_norm_data.append(g_norm)\n",
        "  resp = []\n",
        "  resp.append(x_0)\n",
        "  for x_k in range(k, iterations+1):\n",
        "    if g_norm> 1e-05:\n",
        "      alpha = line_search(x_k)\n",
        "      x_k = x_k - alpha*(grad(x_k))\n",
        "      resp.append(x_k)\n",
        "      g_norm = la.norm(grad(x_k))\n",
        "      g_norm_data.append(g_norm)\n",
        "      if k == iterations:\n",
        "        print(f'iterations have surpassed.')\n",
        "      return resp, g_norm_data, x_k, k\n",
        "  error_data = []\n",
        "  for x in range(len(resp)):\n",
        "    error = abs(function(resp[x]) -  function([-1/7, 11/14]))\n",
        "    error_data.append(error)\n",
        "  x1 = 1 - (2*x[0] + 3*x[1])\n",
        "  print(f'The convergence taken place in {k}')\n",
        "  print(f'x1 = {x1}, x2 = {x_k[0]} and x3 = {x_k[1]}')\n",
        "  return x_k, error_data, resp, k"
      ],
      "metadata": {
        "id": "odae9erIbQ3q"
      },
      "execution_count": 5,
      "outputs": []
    },
    {
      "cell_type": "markdown",
      "source": [
        "Newton's Method"
      ],
      "metadata": {
        "id": "1E30lj3N836O"
      }
    },
    {
      "cell_type": "code",
      "source": [
        "def newton_method(function, grad, Hes, iterations, x_0):\n",
        "  x_k = x_0\n",
        "  # k is current number of iterations.\n",
        "  k = 0\n",
        "  g_norm = la.norm(grad(x_0))\n",
        "  g_norm_data = []\n",
        "  g_norm_data.append(g_norm)\n",
        "  resp = []\n",
        "  resp.append(x_0)\n",
        "  for x in range(k, iterations+1):\n",
        "    if g_norm> 1e-05:\n",
        "      x_k = x_k - numpy.matmul(la.inv(Hes), grad(x_k))\n",
        "      resp.append(x_k)\n",
        "      g_norm = la.norm(grad(x_k))\n",
        "      g_norm_data.append(g_norm)\n",
        "      if k == iterations:\n",
        "        print(f'iterations have surpassed. The error is: {g_norm}')\n",
        "  return resp, g_norm_data, x_k, k\n",
        "  error_data = []\n",
        "  for x in range(len(resp)):\n",
        "    error = abs(function(resp[x]) -  function([-1/7, 11/14]))\n",
        "    error_data.append(error)\n",
        "  x1 = 1 - (2*x[0] + 3*x[1])\n",
        "  print(f'The convergence taken place in {k}')\n",
        "  print(f'x1 = {x1}, x2 = {x_k[0]} and x3 = {x_k[1]}')\n",
        "  return x_k, error_data, resp, k"
      ],
      "metadata": {
        "id": "AdKAu-2A84cf"
      },
      "execution_count": null,
      "outputs": []
    },
    {
      "cell_type": "markdown",
      "source": [
        "Plots"
      ],
      "metadata": {
        "id": "ycY1OX8Bxsm-"
      }
    },
    {
      "cell_type": "code",
      "source": [
        "fig, ax = pyplot.subplots()\n",
        "iterations = 100\n",
        "x_0 = numpy.array([0, 0])\n",
        "x_k, error_data, resp, k = grad_descent(function, grad, Hes, iterations, x_0)\n",
        "print(x_k)\n",
        "print(error_data)\n",
        "ax.plot(error_data, k, c='C0')\n",
        "ax.set_yscale = (\"log\")"
      ],
      "metadata": {
        "colab": {
          "base_uri": "https://localhost:8080/",
          "height": 875
        },
        "id": "cgI0ZMNqxuCu",
        "outputId": "21137872-6870-40a9-b966-26cd7bbcd409"
      },
      "execution_count": 9,
      "outputs": [
        {
          "output_type": "error",
          "ename": "TypeError",
          "evalue": "ignored",
          "traceback": [
            "\u001b[0;31m---------------------------------------------------------------------------\u001b[0m",
            "\u001b[0;31mTypeError\u001b[0m                                 Traceback (most recent call last)",
            "\u001b[0;32m<ipython-input-9-aecd7224dd1d>\u001b[0m in \u001b[0;36m<module>\u001b[0;34m\u001b[0m\n\u001b[1;32m      2\u001b[0m \u001b[0miterations\u001b[0m \u001b[0;34m=\u001b[0m \u001b[0;36m100\u001b[0m\u001b[0;34m\u001b[0m\u001b[0;34m\u001b[0m\u001b[0m\n\u001b[1;32m      3\u001b[0m \u001b[0mx_0\u001b[0m \u001b[0;34m=\u001b[0m \u001b[0mnumpy\u001b[0m\u001b[0;34m.\u001b[0m\u001b[0marray\u001b[0m\u001b[0;34m(\u001b[0m\u001b[0;34m[\u001b[0m\u001b[0;36m0\u001b[0m\u001b[0;34m,\u001b[0m \u001b[0;36m0\u001b[0m\u001b[0;34m]\u001b[0m\u001b[0;34m)\u001b[0m\u001b[0;34m\u001b[0m\u001b[0;34m\u001b[0m\u001b[0m\n\u001b[0;32m----> 4\u001b[0;31m \u001b[0mx_k\u001b[0m\u001b[0;34m,\u001b[0m \u001b[0merror_data\u001b[0m\u001b[0;34m,\u001b[0m \u001b[0mresp\u001b[0m\u001b[0;34m,\u001b[0m \u001b[0mk\u001b[0m \u001b[0;34m=\u001b[0m \u001b[0mgrad_descent\u001b[0m\u001b[0;34m(\u001b[0m\u001b[0mfunction\u001b[0m\u001b[0;34m,\u001b[0m \u001b[0mgrad\u001b[0m\u001b[0;34m,\u001b[0m \u001b[0mHes\u001b[0m\u001b[0;34m,\u001b[0m \u001b[0miterations\u001b[0m\u001b[0;34m,\u001b[0m \u001b[0mx_0\u001b[0m\u001b[0;34m)\u001b[0m\u001b[0;34m\u001b[0m\u001b[0;34m\u001b[0m\u001b[0m\n\u001b[0m\u001b[1;32m      5\u001b[0m \u001b[0mprint\u001b[0m\u001b[0;34m(\u001b[0m\u001b[0mx_k\u001b[0m\u001b[0;34m)\u001b[0m\u001b[0;34m\u001b[0m\u001b[0;34m\u001b[0m\u001b[0m\n\u001b[1;32m      6\u001b[0m \u001b[0mprint\u001b[0m\u001b[0;34m(\u001b[0m\u001b[0merror_data\u001b[0m\u001b[0;34m)\u001b[0m\u001b[0;34m\u001b[0m\u001b[0;34m\u001b[0m\u001b[0m\n",
            "\u001b[0;32m<ipython-input-5-0f3ff92f2a92>\u001b[0m in \u001b[0;36mgrad_descent\u001b[0;34m(function, grad, Hes, iterations, x_0)\u001b[0m\n\u001b[1;32m     10\u001b[0m   \u001b[0;32mfor\u001b[0m \u001b[0mx_k\u001b[0m \u001b[0;32min\u001b[0m \u001b[0mrange\u001b[0m\u001b[0;34m(\u001b[0m\u001b[0mk\u001b[0m\u001b[0;34m,\u001b[0m \u001b[0miterations\u001b[0m\u001b[0;34m+\u001b[0m\u001b[0;36m1\u001b[0m\u001b[0;34m)\u001b[0m\u001b[0;34m:\u001b[0m\u001b[0;34m\u001b[0m\u001b[0;34m\u001b[0m\u001b[0m\n\u001b[1;32m     11\u001b[0m     \u001b[0;32mif\u001b[0m \u001b[0mg_norm\u001b[0m\u001b[0;34m>\u001b[0m \u001b[0;36m1e-05\u001b[0m\u001b[0;34m:\u001b[0m\u001b[0;34m\u001b[0m\u001b[0;34m\u001b[0m\u001b[0m\n\u001b[0;32m---> 12\u001b[0;31m       \u001b[0malpha\u001b[0m \u001b[0;34m=\u001b[0m \u001b[0mline_search\u001b[0m\u001b[0;34m(\u001b[0m\u001b[0mx_k\u001b[0m\u001b[0;34m)\u001b[0m\u001b[0;34m\u001b[0m\u001b[0;34m\u001b[0m\u001b[0m\n\u001b[0m\u001b[1;32m     13\u001b[0m       \u001b[0mx_k\u001b[0m \u001b[0;34m=\u001b[0m \u001b[0mx_k\u001b[0m \u001b[0;34m-\u001b[0m \u001b[0malpha\u001b[0m\u001b[0;34m*\u001b[0m\u001b[0;34m(\u001b[0m\u001b[0mgrad\u001b[0m\u001b[0;34m(\u001b[0m\u001b[0mx_k\u001b[0m\u001b[0;34m)\u001b[0m\u001b[0;34m)\u001b[0m\u001b[0;34m\u001b[0m\u001b[0;34m\u001b[0m\u001b[0m\n\u001b[1;32m     14\u001b[0m       \u001b[0mresp\u001b[0m\u001b[0;34m.\u001b[0m\u001b[0mappend\u001b[0m\u001b[0;34m(\u001b[0m\u001b[0mx_k\u001b[0m\u001b[0;34m)\u001b[0m\u001b[0;34m\u001b[0m\u001b[0;34m\u001b[0m\u001b[0m\n",
            "\u001b[0;32m<ipython-input-3-989c14b26aa5>\u001b[0m in \u001b[0;36mline_search\u001b[0;34m(x)\u001b[0m\n\u001b[1;32m      5\u001b[0m     \u001b[0mphi\u001b[0m \u001b[0;34m=\u001b[0m \u001b[0mfunction\u001b[0m\u001b[0;34m(\u001b[0m\u001b[0mx\u001b[0m\u001b[0;34m)\u001b[0m \u001b[0;34m-\u001b[0m \u001b[0mt\u001b[0m \u001b[0;34m*\u001b[0m \u001b[0malpha\u001b[0m \u001b[0;34m*\u001b[0m \u001b[0mnumpy\u001b[0m\u001b[0;34m.\u001b[0m\u001b[0mmatmul\u001b[0m\u001b[0;34m(\u001b[0m\u001b[0mnumpy\u001b[0m\u001b[0;34m.\u001b[0m\u001b[0mtranspose\u001b[0m\u001b[0;34m(\u001b[0m\u001b[0mgrad\u001b[0m\u001b[0;34m(\u001b[0m\u001b[0mx\u001b[0m\u001b[0;34m)\u001b[0m\u001b[0;34m)\u001b[0m\u001b[0;34m,\u001b[0m \u001b[0;34m-\u001b[0m\u001b[0;36m1\u001b[0m\u001b[0;34m*\u001b[0m\u001b[0mgrad\u001b[0m\u001b[0;34m(\u001b[0m\u001b[0mx\u001b[0m\u001b[0;34m)\u001b[0m\u001b[0;34m)\u001b[0m\u001b[0;34m\u001b[0m\u001b[0;34m\u001b[0m\u001b[0m\n\u001b[1;32m      6\u001b[0m     \u001b[0;32mreturn\u001b[0m \u001b[0mphi\u001b[0m\u001b[0;34m\u001b[0m\u001b[0;34m\u001b[0m\u001b[0m\n\u001b[0;32m----> 7\u001b[0;31m   \u001b[0;32mwhile\u001b[0m \u001b[0mfunction\u001b[0m\u001b[0;34m(\u001b[0m\u001b[0mx\u001b[0m \u001b[0;34m-\u001b[0m \u001b[0malpha\u001b[0m \u001b[0;34m*\u001b[0m \u001b[0mgrad\u001b[0m\u001b[0;34m(\u001b[0m\u001b[0mx\u001b[0m\u001b[0;34m)\u001b[0m\u001b[0;34m)\u001b[0m\u001b[0;34m:\u001b[0m\u001b[0;34m\u001b[0m\u001b[0;34m\u001b[0m\u001b[0m\n\u001b[0m\u001b[1;32m      8\u001b[0m     \u001b[0malpha\u001b[0m \u001b[0;34m=\u001b[0m \u001b[0malpha\u001b[0m\u001b[0;34m/\u001b[0m\u001b[0;36m2\u001b[0m\u001b[0;34m\u001b[0m\u001b[0;34m\u001b[0m\u001b[0m\n\u001b[1;32m      9\u001b[0m     \u001b[0;32mreturn\u001b[0m \u001b[0malpha\u001b[0m\u001b[0;34m\u001b[0m\u001b[0;34m\u001b[0m\u001b[0m\n",
            "\u001b[0;32m<ipython-input-4-8fb900e32701>\u001b[0m in \u001b[0;36mgrad\u001b[0;34m(x)\u001b[0m\n\u001b[1;32m      2\u001b[0m \u001b[0;34m\u001b[0m\u001b[0m\n\u001b[1;32m      3\u001b[0m \u001b[0;32mdef\u001b[0m \u001b[0mgrad\u001b[0m\u001b[0;34m(\u001b[0m\u001b[0mx\u001b[0m\u001b[0;34m)\u001b[0m\u001b[0;34m:\u001b[0m\u001b[0;34m\u001b[0m\u001b[0;34m\u001b[0m\u001b[0m\n\u001b[0;32m----> 4\u001b[0;31m   \u001b[0mgradient\u001b[0m \u001b[0;34m=\u001b[0m \u001b[0mnumpy\u001b[0m\u001b[0;34m.\u001b[0m\u001b[0marray\u001b[0m\u001b[0;34m(\u001b[0m\u001b[0;34m[\u001b[0m\u001b[0;34m(\u001b[0m\u001b[0;36m10\u001b[0m\u001b[0;34m*\u001b[0m\u001b[0mx\u001b[0m\u001b[0;34m[\u001b[0m\u001b[0;36m0\u001b[0m\u001b[0;34m]\u001b[0m \u001b[0;34m+\u001b[0m \u001b[0;36m12\u001b[0m\u001b[0;34m*\u001b[0m\u001b[0mx\u001b[0m\u001b[0;34m[\u001b[0m\u001b[0;36m1\u001b[0m\u001b[0;34m]\u001b[0m \u001b[0;34m-\u001b[0m \u001b[0;36m8\u001b[0m\u001b[0;34m)\u001b[0m\u001b[0;34m,\u001b[0m \u001b[0;34m(\u001b[0m\u001b[0;36m12\u001b[0m\u001b[0;34m*\u001b[0m\u001b[0mx\u001b[0m\u001b[0;34m[\u001b[0m\u001b[0;36m0\u001b[0m\u001b[0;34m]\u001b[0m \u001b[0;34m+\u001b[0m \u001b[0;36m20\u001b[0m\u001b[0;34m*\u001b[0m\u001b[0mx\u001b[0m\u001b[0;34m[\u001b[0m\u001b[0;36m1\u001b[0m\u001b[0;34m]\u001b[0m \u001b[0;34m-\u001b[0m \u001b[0;36m14\u001b[0m\u001b[0;34m)\u001b[0m\u001b[0;34m]\u001b[0m\u001b[0;34m)\u001b[0m\u001b[0;34m\u001b[0m\u001b[0;34m\u001b[0m\u001b[0m\n\u001b[0m\u001b[1;32m      5\u001b[0m   \u001b[0;32mreturn\u001b[0m \u001b[0mgradient\u001b[0m\u001b[0;34m\u001b[0m\u001b[0;34m\u001b[0m\u001b[0m\n\u001b[1;32m      6\u001b[0m \u001b[0;34m\u001b[0m\u001b[0m\n",
            "\u001b[0;31mTypeError\u001b[0m: 'int' object is not subscriptable"
          ]
        },
        {
          "output_type": "display_data",
          "data": {
            "text/plain": [
              "<Figure size 432x288 with 1 Axes>"
            ],
            "image/png": "[encoded data removed]"
          },
          "metadata": {
            "needs_background": "light"
          }
        }
      ]
    }
  ]
}