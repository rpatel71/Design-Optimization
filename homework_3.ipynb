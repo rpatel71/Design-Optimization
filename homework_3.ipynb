{
  "nbformat": 4,
  "nbformat_minor": 0,
  "metadata": {
    "colab": {
      "provenance": [],
      "authorship_tag": "ABX9TyNHMutd9FZ922kGM9BoOTnJ",
      "include_colab_link": true
    },
    "kernelspec": {
      "name": "python3",
      "display_name": "Python 3"
    },
    "language_info": {
      "name": "python"
    }
  },
  "cells": [
    {
      "cell_type": "markdown",
      "metadata": {
        "id": "view-in-github",
        "colab_type": "text"
      },
      "source": [
        "<a href=\"https://colab.research.google.com/github/rpatel71/Design-Optimization/blob/main/homework_3.ipynb\" target=\"_parent\"><img src=\"https://colab.research.google.com/assets/colab-badge.svg\" alt=\"Open In Colab\"/></a>"
      ]
    },
    {
      "cell_type": "markdown",
      "source": [
        "This is the answer of the homework-3 of Design Optimization.\n",
        "\n",
        "Problem 1"
      ],
      "metadata": {
        "id": "cvJ33FHRzBJx"
      }
    },
    {
      "cell_type": "code",
      "execution_count": 11,
      "metadata": {
        "colab": {
          "base_uri": "https://localhost:8080/"
        },
        "id": "plR2ggpiy70K",
        "outputId": "af2df569-aaca-460a-ee75-f3a7613dac69"
      },
      "outputs": [
        {
          "output_type": "stream",
          "name": "stdout",
          "text": [
            "estimation of A12 and A21 is:  tensor([1.9531, 1.6834], requires_grad=True)\n",
            "final loss is:  0.67093503\n"
          ]
        }
      ],
      "source": [
        "# importing all the libraries required\n",
        "import numpy as np\n",
        "import torch as tor\n",
        "from torch.autograd import Variable\n",
        "import matplotlib.pyplot as plt\n",
        "\n",
        "X1 = np.array([[0.0, 0.1, 0.2, 0.3, 0.4, 0.5, 0.6, 0.7, 0.8, 0.9, 1.0]])\n",
        "X2 = np.flip(X1, axis = 1).copy()\n",
        "a = np.array(([[8.0731, 1730.63, 233.426], [7.43155, 1554.679, 240.337]]))\n",
        "\n",
        "# T = 20\n",
        "p_w = 10 ** (a[0, 0] - a[0, 1] / (20 + a[0, 2]))\n",
        "p_diox = 10 ** (a[1, 0] - a[1, 1] / (20 + a[1, 2]))\n",
        "P = np.array([[28.1, 34.4, 36.7, 36.9, 36.8, 36.7, 36.5, 35.4, 32.9, 27.7, 17.5]])\n",
        "P = tor.tensor(P, requires_grad=False, dtype=tor.float32)\n",
        "\n",
        "A = Variable(tor.tensor([2.0, 2.0]), requires_grad=True)\n",
        "\n",
        "x1 = tor.tensor(X1, requires_grad=False, dtype=tor.float32)\n",
        "x2 = tor.tensor(X2, requires_grad=False, dtype=tor.float32)\n",
        "\n",
        "a = 0.001\n",
        "\n",
        "for i in range(100):\n",
        "    P_cal = x1 * tor.exp(A[0] * (A[1] * x2 / (A[0] * x1 + A[1] * x2)) ** 2) * p_w + \\\n",
        "          x2 * tor.exp(A[1] * (A[0] * x1 / (A[0] * x1 + A[1] * x2)) ** 2) * p_diox\n",
        "\n",
        "    loss = (P_cal - P) ** 2\n",
        "    loss = loss.sum()\n",
        "\n",
        "    loss.backward()\n",
        "\n",
        "    with tor.no_grad():\n",
        "        A -= a * A.grad\n",
        "        A.grad.zero_()\n",
        "\n",
        "print('estimation of A12 and A21 is: ', A)\n",
        "print('final loss is: ', loss.data.numpy())"
      ]
    },
    {
      "cell_type": "markdown",
      "source": [
        "Problem 2"
      ],
      "metadata": {
        "id": "6vtVcMXGCPVQ"
      }
    },
    {
      "cell_type": "code",
      "source": [
        "!pip install bayesian-optimization"
      ],
      "metadata": {
        "colab": {
          "base_uri": "https://localhost:8080/"
        },
        "id": "-pJHPykbMXrR",
        "outputId": "51f08791-5ae8-49a3-8e32-fa5d9cbc80c9"
      },
      "execution_count": 13,
      "outputs": [
        {
          "output_type": "stream",
          "name": "stdout",
          "text": [
            "Looking in indexes: https://pypi.org/simple, https://us-python.pkg.dev/colab-wheels/public/simple/\n",
            "Requirement already satisfied: bayesian-optimization in /usr/local/lib/python3.7/dist-packages (1.2.0)\n",
            "Requirement already satisfied: scipy>=0.14.0 in /usr/local/lib/python3.7/dist-packages (from bayesian-optimization) (1.7.3)\n",
            "Requirement already satisfied: numpy>=1.9.0 in /usr/local/lib/python3.7/dist-packages (from bayesian-optimization) (1.21.6)\n",
            "Requirement already satisfied: scikit-learn>=0.18.0 in /usr/local/lib/python3.7/dist-packages (from bayesian-optimization) (1.0.2)\n",
            "Requirement already satisfied: threadpoolctl>=2.0.0 in /usr/local/lib/python3.7/dist-packages (from scikit-learn>=0.18.0->bayesian-optimization) (3.1.0)\n",
            "Requirement already satisfied: joblib>=0.11 in /usr/local/lib/python3.7/dist-packages (from scikit-learn>=0.18.0->bayesian-optimization) (1.2.0)\n"
          ]
        }
      ]
    }
  ]
}