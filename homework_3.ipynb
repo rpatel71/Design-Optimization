{
  "nbformat": 4,
  "nbformat_minor": 0,
  "metadata": {
    "colab": {
      "provenance": [],
      "authorship_tag": "ABX9TyNoJOBOKK+aLXcsPQkDfUuE",
      "include_colab_link": true
    },
    "kernelspec": {
      "name": "python3",
      "display_name": "Python 3"
    },
    "language_info": {
      "name": "python"
    },
    "accelerator": "GPU"
  },
  "cells": [
    {
      "cell_type": "markdown",
      "metadata": {
        "id": "view-in-github",
        "colab_type": "text"
      },
      "source": [
        "<a href=\"https://colab.research.google.com/github/rpatel71/Design-Optimization/blob/main/homework_3.ipynb\" target=\"_parent\"><img src=\"https://colab.research.google.com/assets/colab-badge.svg\" alt=\"Open In Colab\"/></a>"
      ]
    },
    {
      "cell_type": "markdown",
      "source": [
        "This is the answer of the homework-3 of Design Optimization.\n",
        "\n",
        "Problem 1:\n",
        "\n",
        "(1) Formulation of the Least square problem:\n",
        "\n",
        "$ \\min\\limits _{A_{12}, A_{21}} \\sum\\limits _{i=1} ^{n} (P(x_{i}, A_{12}, A_{21}) - P_{exp})^2 $\n",
        "\n",
        "Here, $P_{exp}$ is experimental data of the pressure.\n",
        "\n",
        "$P(x_{i}, A_{12}, A_{21})$ is a function given. also, $ x_{1} + x_{2} = 1$.\n",
        "\n",
        "for the $2^{nd}$ part of the problem 1 please refer to the code given below."
      ],
      "metadata": {
        "id": "cvJ33FHRzBJx"
      }
    },
    {
      "cell_type": "code",
      "execution_count": 58,
      "metadata": {
        "colab": {
          "base_uri": "https://localhost:8080/"
        },
        "id": "plR2ggpiy70K",
        "outputId": "bb2fe92d-1e5a-4c74-d270-e0d499fdc7dc"
      },
      "outputs": [
        {
          "output_type": "stream",
          "name": "stdout",
          "text": [
            "tensor(0.6709, grad_fn=<SumBackward0>)\n",
            "The predicted values of A12 and A21 is:  tensor([1.9531, 1.6834], requires_grad=True) respecitvely\n",
            "final loss is:  0.670936\n",
            "tensor([[28.8241, 34.6405, 36.4540, 36.8727, 36.8804, 36.7535, 36.3885, 35.3770,\n",
            "         32.9398, 27.7401, 17.5454]], grad_fn=<AddBackward0>)\n",
            "[28.824099, 34.640488, 36.45405, 36.87272, 36.880394, 36.753456, 36.38845, 35.376965, 32.939754, 27.740105, 17.54542]\n",
            "[0.0, 0.1, 0.2, 0.3, 0.4, 0.5, 0.6, 0.7, 0.8, 0.9, 1.0]\n"
          ]
        }
      ],
      "source": [
        "# importing all the libraries required\n",
        "import numpy as np\n",
        "import torch as tor\n",
        "from torch.autograd import Variable\n",
        "import matplotlib.pyplot as plt\n",
        "\n",
        "# defining all the parameters\n",
        "X1 = np.array([[0.0, 0.1, 0.2, 0.3, 0.4, 0.5, 0.6, 0.7, 0.8, 0.9, 1.0]])\n",
        "X2 = np.flip(X1, axis = 1).copy()\n",
        "a = np.array(([[8.0731, 1730.63, 233.426], [7.43155, 1554.679, 240.337]]))\n",
        "# T = 20\n",
        "p_w = 10 ** (a[0, 0] - a[0, 1] / (20 + a[0, 2]))\n",
        "p_diox = 10 ** (a[1, 0] - a[1, 1] / (20 + a[1, 2]))\n",
        "P_num = np.array([[28.1, 34.4, 36.7, 36.9, 36.8, 36.7, 36.5, 35.4, 32.9, 27.7, 17.5]])\n",
        "P = tor.tensor(P_num, requires_grad=False, dtype=tor.float32)\n",
        "A = Variable(tor.tensor([2.0, 2.0]), requires_grad=True)\n",
        "x1 = tor.tensor(X1, requires_grad=False, dtype=tor.float32)\n",
        "x2 = tor.tensor(X2, requires_grad=False, dtype=tor.float32)\n",
        "\n",
        "# Step-size\n",
        "a = 0.001\n",
        "for i in range(100):\n",
        "    P_cal = x1 * tor.exp(A[0] * (A[1] * x2 / (A[0] * x1 + A[1] * x2)) ** 2) * p_w + \\\n",
        "            x2 * tor.exp(A[1] * (A[0] * x1 / (A[0] * x1 + A[1] * x2)) ** 2) * p_diox\n",
        "    \n",
        "    # Least Square error\n",
        "    loss = (P_cal - P) ** 2\n",
        "    loss = loss.sum()\n",
        "    loss.backward()\n",
        "    with tor.no_grad():\n",
        "        A -= a * A.grad\n",
        "        A.grad.zero_()\n",
        "print(loss)\n",
        "print('The predicted values of A12 and A21 is: ', A, 'respecitvely')\n",
        "print('final loss is: ', loss.data.numpy())\n",
        "\n",
        "# calculation of P when the values of A12 and A21 are found after optimization.\n",
        "P_opt = x1 * tor.exp(A[0] * (A[1] * x2 / (A[0] * x1 + A[1] * x2)) ** 2) * p_w + \\\n",
        "        x2 * tor.exp(A[1] * (A[0] * x1 / (A[0] * x1 + A[1] * x2)) ** 2) * p_diox\n",
        "print(P_opt)\n",
        "\n",
        "# making a temporary variable P1 to detach the P_opt of the gradient and conversion of tensor to numpy array.\n",
        "P1 = P_opt.detach().numpy()\n",
        "\n",
        "# converting 2D arrays into 1D arrays to plot the graph\n",
        "P_cal = []\n",
        "x_given = []\n",
        "P_exp = []\n",
        "for i in range(0,11):\n",
        "  P_exp.append(P_num[0,i])\n",
        "  x_given.append(X1[0,i])\n",
        "  P_cal.append(P1[0, i])\n",
        "\n",
        "print(P_cal)\n",
        "print(x_given)"
      ]
    },
    {
      "cell_type": "code",
      "source": [
        "# Ploting the graph of Experimental data and Optimized data of pressure.\n",
        "fig, ax = plt.subplots(1, 1, tight_layout=1)\n",
        "ax.plot(x_given, P_exp, c='C0', dashes=(2,1), label='Experimental P')\n",
        "ax.plot(x_given, P_cal, c='C1', dashes=(1,1), label='Optimized value of P')\n",
        "ax.set_xlim(0.0, 1.0)\n",
        "ax.set_ylim(0.0, 40.0)\n",
        "ax.set_xlabel('x1 for water')\n",
        "ax.set_ylabel('Pressure(P)')\n",
        "ax.legend(frameon=0)\n",
        "plt.title('Comparison of optimized model with given data')"
      ],
      "metadata": {
        "colab": {
          "base_uri": "https://localhost:8080/",
          "height": 314
        },
        "id": "sjKKcryDHfu6",
        "outputId": "8fecb68e-7a64-4d88-c560-6c38b8ce31f0"
      },
      "execution_count": 59,
      "outputs": [
        {
          "output_type": "execute_result",
          "data": {
            "text/plain": [
              "Text(0.5, 1.0, 'Comparison of optimized model with given data')"
            ]
          },
          "metadata": {},
          "execution_count": 59
        },
        {
          "output_type": "display_data",
          "data": {
            "text/plain": [
              "<Figure size 432x288 with 1 Axes>"
            ],
            "image/png": "[encoded data removed]"
          },
          "metadata": {
            "needs_background": "light"
          }
        }
      ]
    },
    {
      "cell_type": "markdown",
      "source": [
        "(3) comparing optimized model with Experimental data, we can see from the graph that model data fits really well with the experimental data. "
      ],
      "metadata": {
        "id": "qAmyf7XLglhd"
      }
    },
    {
      "cell_type": "markdown",
      "source": [
        "Problem 2"
      ],
      "metadata": {
        "id": "6vtVcMXGCPVQ"
      }
    },
    {
      "cell_type": "code",
      "source": [
        "!pip install bayesian-optimization"
      ],
      "metadata": {
        "colab": {
          "base_uri": "https://localhost:8080/"
        },
        "id": "-pJHPykbMXrR",
        "outputId": "9a940b18-5de0-4aa5-cb3a-73ef9d8c5539"
      },
      "execution_count": 49,
      "outputs": [
        {
          "output_type": "stream",
          "name": "stdout",
          "text": [
            "Looking in indexes: https://pypi.org/simple, https://us-python.pkg.dev/colab-wheels/public/simple/\n",
            "Collecting bayesian-optimization\n",
            "  Downloading bayesian-optimization-1.2.0.tar.gz (14 kB)\n",
            "Requirement already satisfied: numpy>=1.9.0 in /usr/local/lib/python3.7/dist-packages (from bayesian-optimization) (1.21.6)\n",
            "Requirement already satisfied: scipy>=0.14.0 in /usr/local/lib/python3.7/dist-packages (from bayesian-optimization) (1.7.3)\n",
            "Requirement already satisfied: scikit-learn>=0.18.0 in /usr/local/lib/python3.7/dist-packages (from bayesian-optimization) (1.0.2)\n",
            "Requirement already satisfied: joblib>=0.11 in /usr/local/lib/python3.7/dist-packages (from scikit-learn>=0.18.0->bayesian-optimization) (1.2.0)\n",
            "Requirement already satisfied: threadpoolctl>=2.0.0 in /usr/local/lib/python3.7/dist-packages (from scikit-learn>=0.18.0->bayesian-optimization) (3.1.0)\n",
            "Building wheels for collected packages: bayesian-optimization\n",
            "  Building wheel for bayesian-optimization (setup.py) ... \u001b[?25l\u001b[?25hdone\n",
            "  Created wheel for bayesian-optimization: filename=bayesian_optimization-1.2.0-py3-none-any.whl size=11685 sha256=ca9427a3bd65eb6b1e42a6c0805fe6a23f03605bb333bbb473543997b0e34ae8\n",
            "  Stored in directory: /root/.cache/pip/wheels/fd/9b/71/f127d694e02eb40bcf18c7ae9613b88a6be4470f57a8528c5b\n",
            "Successfully built bayesian-optimization\n",
            "Installing collected packages: bayesian-optimization\n",
            "Successfully installed bayesian-optimization-1.2.0\n"
          ]
        }
      ]
    },
    {
      "cell_type": "code",
      "source": [
        "from bayes_opt import BayesianOptimization\n",
        "def eq(x1, x2):\n",
        "  var = -((4 - (2.1*x1**2) + ((x1**4)/3))*x1**2 + (x1*x2) + (-4 + 4*(x2**2)) * x2**2)\n",
        "  # we are taking the var as \"negative\" because this library only have maximize function.\n",
        "  var_flip = -var\n",
        "  return var\n",
        "lim = {'x1': (-3, 3), 'x2': (-2, 2)}\n",
        "\n",
        "opt = BayesianOptimization(f=eq, pbounds=lim, random_state=1)\n",
        "\n",
        "# To minimize the function required, we need to use maximize function since we have already taken the function as negative.\n",
        "opt.maximize(init_points = 10, n_iter = 101)\n",
        "print(opt.max)"
      ],
      "metadata": {
        "id": "eZ2IhGYbMpMu",
        "colab": {
          "base_uri": "https://localhost:8080/"
        },
        "outputId": "2807f1a8-f686-42da-b3c8-c0494188c56b"
      },
      "execution_count": 52,
      "outputs": [
        {
          "output_type": "stream",
          "name": "stdout",
          "text": [
            "|   iter    |  target   |    x1     |    x2     |\n",
            "-------------------------------------------------\n",
            "| \u001b[0m 1       \u001b[0m | \u001b[0m 0.265   \u001b[0m | \u001b[0m-0.4979  \u001b[0m | \u001b[0m 0.8813  \u001b[0m |\n",
            "| \u001b[0m 2       \u001b[0m | \u001b[0m-110.1   \u001b[0m | \u001b[0m-2.999   \u001b[0m | \u001b[0m-0.7907  \u001b[0m |\n",
            "| \u001b[0m 3       \u001b[0m | \u001b[0m-26.91   \u001b[0m | \u001b[0m-2.119   \u001b[0m | \u001b[0m-1.631   \u001b[0m |\n",
            "| \u001b[0m 4       \u001b[0m | \u001b[0m-2.856   \u001b[0m | \u001b[0m-1.882   \u001b[0m | \u001b[0m-0.6178  \u001b[0m |\n",
            "| \u001b[0m 5       \u001b[0m | \u001b[0m-1.054   \u001b[0m | \u001b[0m-0.6194  \u001b[0m | \u001b[0m 0.1553  \u001b[0m |\n",
            "| \u001b[95m 6       \u001b[0m | \u001b[95m 0.5211  \u001b[0m | \u001b[95m-0.4848  \u001b[0m | \u001b[95m 0.7409  \u001b[0m |\n",
            "| \u001b[0m 7       \u001b[0m | \u001b[0m-11.28   \u001b[0m | \u001b[0m-1.773   \u001b[0m | \u001b[0m 1.512   \u001b[0m |\n",
            "| \u001b[0m 8       \u001b[0m | \u001b[0m-66.76   \u001b[0m | \u001b[0m-2.836   \u001b[0m | \u001b[0m 0.6819  \u001b[0m |\n",
            "| \u001b[0m 9       \u001b[0m | \u001b[0m-0.5377  \u001b[0m | \u001b[0m-0.4962  \u001b[0m | \u001b[0m 0.2348  \u001b[0m |\n",
            "| \u001b[0m 10      \u001b[0m | \u001b[0m-12.02   \u001b[0m | \u001b[0m-2.158   \u001b[0m | \u001b[0m-1.208   \u001b[0m |\n",
            "| \u001b[0m 11      \u001b[0m | \u001b[0m-6.707   \u001b[0m | \u001b[0m-0.6913  \u001b[0m | \u001b[0m-1.287   \u001b[0m |\n",
            "| \u001b[0m 12      \u001b[0m | \u001b[0m-4.507   \u001b[0m | \u001b[0m 1.223   \u001b[0m | \u001b[0m 1.081   \u001b[0m |\n",
            "| \u001b[0m 13      \u001b[0m | \u001b[0m-0.5198  \u001b[0m | \u001b[0m 1.354   \u001b[0m | \u001b[0m-0.6292  \u001b[0m |\n",
            "| \u001b[0m 14      \u001b[0m | \u001b[0m-65.32   \u001b[0m | \u001b[0m 2.812   \u001b[0m | \u001b[0m 0.1161  \u001b[0m |\n",
            "| \u001b[0m 15      \u001b[0m | \u001b[0m-48.23   \u001b[0m | \u001b[0m 1.016   \u001b[0m | \u001b[0m-2.0     \u001b[0m |\n",
            "| \u001b[0m 16      \u001b[0m | \u001b[0m-49.11   \u001b[0m | \u001b[0m 0.3388  \u001b[0m | \u001b[0m 2.0     \u001b[0m |\n",
            "| \u001b[0m 17      \u001b[0m | \u001b[0m-1.532   \u001b[0m | \u001b[0m 0.7023  \u001b[0m | \u001b[0m 0.103   \u001b[0m |\n",
            "| \u001b[0m 18      \u001b[0m | \u001b[0m-68.92   \u001b[0m | \u001b[0m 2.385   \u001b[0m | \u001b[0m 2.0     \u001b[0m |\n",
            "| \u001b[0m 19      \u001b[0m | \u001b[0m-150.9   \u001b[0m | \u001b[0m 3.0     \u001b[0m | \u001b[0m-2.0     \u001b[0m |\n",
            "| \u001b[0m 20      \u001b[0m | \u001b[0m-150.9   \u001b[0m | \u001b[0m-3.0     \u001b[0m | \u001b[0m 2.0     \u001b[0m |\n",
            "| \u001b[95m 21      \u001b[0m | \u001b[95m 0.626   \u001b[0m | \u001b[95m 0.3658  \u001b[0m | \u001b[95m-0.8456  \u001b[0m |\n",
            "| \u001b[0m 22      \u001b[0m | \u001b[0m-0.0896  \u001b[0m | \u001b[0m-1.509   \u001b[0m | \u001b[0m 0.7057  \u001b[0m |\n",
            "| \u001b[0m 23      \u001b[0m | \u001b[0m-48.22   \u001b[0m | \u001b[0m-1.022   \u001b[0m | \u001b[0m 2.0     \u001b[0m |\n",
            "| \u001b[0m 24      \u001b[0m | \u001b[0m-2.243   \u001b[0m | \u001b[0m 1.573   \u001b[0m | \u001b[0m 0.2764  \u001b[0m |\n",
            "| \u001b[0m 25      \u001b[0m | \u001b[0m-4.215   \u001b[0m | \u001b[0m-1.416   \u001b[0m | \u001b[0m-1.051   \u001b[0m |\n",
            "| \u001b[0m 26      \u001b[0m | \u001b[0m-48.84   \u001b[0m | \u001b[0m-0.2759  \u001b[0m | \u001b[0m-2.0     \u001b[0m |\n",
            "| \u001b[0m 27      \u001b[0m | \u001b[0m 0.1817  \u001b[0m | \u001b[0m-0.374   \u001b[0m | \u001b[0m-0.6042  \u001b[0m |\n",
            "| \u001b[0m 28      \u001b[0m | \u001b[0m-0.276   \u001b[0m | \u001b[0m 0.3921  \u001b[0m | \u001b[0m 0.8941  \u001b[0m |\n",
            "| \u001b[0m 29      \u001b[0m | \u001b[0m-2.63    \u001b[0m | \u001b[0m-1.208   \u001b[0m | \u001b[0m 1.144   \u001b[0m |\n",
            "| \u001b[0m 30      \u001b[0m | \u001b[0m-2.447   \u001b[0m | \u001b[0m-1.332   \u001b[0m | \u001b[0m-0.2503  \u001b[0m |\n",
            "| \u001b[0m 31      \u001b[0m | \u001b[0m-0.774   \u001b[0m | \u001b[0m 0.8767  \u001b[0m | \u001b[0m-0.508   \u001b[0m |\n",
            "| \u001b[0m 32      \u001b[0m | \u001b[0m-1.988   \u001b[0m | \u001b[0m 1.034   \u001b[0m | \u001b[0m 0.5836  \u001b[0m |\n",
            "| \u001b[0m 33      \u001b[0m | \u001b[0m 0.1815  \u001b[0m | \u001b[0m 0.1361  \u001b[0m | \u001b[0m-0.2427  \u001b[0m |\n",
            "| \u001b[0m 34      \u001b[0m | \u001b[0m-1.987   \u001b[0m | \u001b[0m 1.345   \u001b[0m | \u001b[0m-0.1736  \u001b[0m |\n",
            "| \u001b[0m 35      \u001b[0m | \u001b[0m-2.024   \u001b[0m | \u001b[0m 0.9383  \u001b[0m | \u001b[0m-1.093   \u001b[0m |\n",
            "| \u001b[0m 36      \u001b[0m | \u001b[0m 0.5136  \u001b[0m | \u001b[0m 0.1383  \u001b[0m | \u001b[0m 0.4528  \u001b[0m |\n",
            "| \u001b[0m 37      \u001b[0m | \u001b[0m-0.478   \u001b[0m | \u001b[0m-1.839   \u001b[0m | \u001b[0m 0.9853  \u001b[0m |\n",
            "| \u001b[0m 38      \u001b[0m | \u001b[0m-1.97    \u001b[0m | \u001b[0m-1.837   \u001b[0m | \u001b[0m 0.1696  \u001b[0m |\n",
            "| \u001b[0m 39      \u001b[0m | \u001b[0m-0.7324  \u001b[0m | \u001b[0m-0.1254  \u001b[0m | \u001b[0m-1.058   \u001b[0m |\n",
            "| \u001b[0m 40      \u001b[0m | \u001b[0m-2.699   \u001b[0m | \u001b[0m 1.764   \u001b[0m | \u001b[0m 0.8146  \u001b[0m |\n",
            "| \u001b[0m 41      \u001b[0m | \u001b[0m 0.4918  \u001b[0m | \u001b[0m-0.06086 \u001b[0m | \u001b[0m 0.9332  \u001b[0m |\n",
            "| \u001b[0m 42      \u001b[0m | \u001b[0m-1.628   \u001b[0m | \u001b[0m-0.869   \u001b[0m | \u001b[0m-0.7465  \u001b[0m |\n",
            "| \u001b[0m 43      \u001b[0m | \u001b[0m-0.73    \u001b[0m | \u001b[0m-0.9862  \u001b[0m | \u001b[0m 0.5863  \u001b[0m |\n",
            "| \u001b[95m 44      \u001b[0m | \u001b[95m 1.011   \u001b[0m | \u001b[95m 0.02789 \u001b[0m | \u001b[95m-0.6824  \u001b[0m |\n",
            "| \u001b[0m 45      \u001b[0m | \u001b[0m-2.237   \u001b[0m | \u001b[0m 1.43    \u001b[0m | \u001b[0m 0.6894  \u001b[0m |\n",
            "| \u001b[0m 46      \u001b[0m | \u001b[0m-1.75    \u001b[0m | \u001b[0m-1.419   \u001b[0m | \u001b[0m 0.2248  \u001b[0m |\n",
            "| \u001b[0m 47      \u001b[0m | \u001b[0m-1.557   \u001b[0m | \u001b[0m-1.56    \u001b[0m | \u001b[0m 1.114   \u001b[0m |\n",
            "| \u001b[0m 48      \u001b[0m | \u001b[0m-0.5286  \u001b[0m | \u001b[0m-1.868   \u001b[0m | \u001b[0m 0.5935  \u001b[0m |\n",
            "| \u001b[0m 49      \u001b[0m | \u001b[0m-0.2196  \u001b[0m | \u001b[0m-0.2621  \u001b[0m | \u001b[0m-0.1462  \u001b[0m |\n",
            "| \u001b[0m 50      \u001b[0m | \u001b[0m-4.007   \u001b[0m | \u001b[0m-1.796   \u001b[0m | \u001b[0m-0.9969  \u001b[0m |\n",
            "| \u001b[0m 51      \u001b[0m | \u001b[0m-0.4914  \u001b[0m | \u001b[0m 0.5473  \u001b[0m | \u001b[0m 0.5372  \u001b[0m |\n",
            "| \u001b[0m 52      \u001b[0m | \u001b[0m-0.526   \u001b[0m | \u001b[0m 1.042   \u001b[0m | \u001b[0m-0.763   \u001b[0m |\n",
            "| \u001b[0m 53      \u001b[0m | \u001b[0m-1.25    \u001b[0m | \u001b[0m 1.731   \u001b[0m | \u001b[0m-0.3005  \u001b[0m |\n",
            "| \u001b[0m 54      \u001b[0m | \u001b[0m 0.2053  \u001b[0m | \u001b[0m 0.4553  \u001b[0m | \u001b[0m-0.4877  \u001b[0m |\n",
            "| \u001b[0m 55      \u001b[0m | \u001b[0m-0.6785  \u001b[0m | \u001b[0m-0.4609  \u001b[0m | \u001b[0m-0.9229  \u001b[0m |\n",
            "| \u001b[95m 56      \u001b[0m | \u001b[95m 1.012   \u001b[0m | \u001b[95m-0.107   \u001b[0m | \u001b[95m 0.664   \u001b[0m |\n",
            "| \u001b[0m 57      \u001b[0m | \u001b[0m-2.143   \u001b[0m | \u001b[0m-1.514   \u001b[0m | \u001b[0m-0.6249  \u001b[0m |\n",
            "| \u001b[0m 58      \u001b[0m | \u001b[0m-2.442   \u001b[0m | \u001b[0m 0.4995  \u001b[0m | \u001b[0m-1.178   \u001b[0m |\n",
            "| \u001b[0m 59      \u001b[0m | \u001b[0m-0.1472  \u001b[0m | \u001b[0m 0.6909  \u001b[0m | \u001b[0m-0.8758  \u001b[0m |\n",
            "| \u001b[0m 60      \u001b[0m | \u001b[0m-0.3415  \u001b[0m | \u001b[0m 0.2988  \u001b[0m | \u001b[0m 0.07199 \u001b[0m |\n",
            "| \u001b[0m 61      \u001b[0m | \u001b[0m-0.4237  \u001b[0m | \u001b[0m-0.8351  \u001b[0m | \u001b[0m 0.8718  \u001b[0m |\n",
            "| \u001b[0m 62      \u001b[0m | \u001b[0m 0.7544  \u001b[0m | \u001b[0m 0.169   \u001b[0m | \u001b[0m 0.7387  \u001b[0m |\n",
            "| \u001b[0m 63      \u001b[0m | \u001b[0m-2.264   \u001b[0m | \u001b[0m-1.707   \u001b[0m | \u001b[0m-0.2564  \u001b[0m |\n",
            "| \u001b[0m 64      \u001b[0m | \u001b[0m-1.854   \u001b[0m | \u001b[0m 0.8001  \u001b[0m | \u001b[0m 0.8926  \u001b[0m |\n",
            "| \u001b[0m 65      \u001b[0m | \u001b[0m-1.402   \u001b[0m | \u001b[0m-0.7172  \u001b[0m | \u001b[0m-0.3252  \u001b[0m |\n",
            "| \u001b[0m 66      \u001b[0m | \u001b[0m 0.1605  \u001b[0m | \u001b[0m-0.06693 \u001b[0m | \u001b[0m 0.2073  \u001b[0m |\n",
            "| \u001b[0m 67      \u001b[0m | \u001b[0m 0.6709  \u001b[0m | \u001b[0m-0.1571  \u001b[0m | \u001b[0m-0.8132  \u001b[0m |\n",
            "| \u001b[0m 68      \u001b[0m | \u001b[0m 0.4595  \u001b[0m | \u001b[0m 0.1237  \u001b[0m | \u001b[0m-0.9413  \u001b[0m |\n",
            "| \u001b[0m 69      \u001b[0m | \u001b[0m 0.5642  \u001b[0m | \u001b[0m-0.1081  \u001b[0m | \u001b[0m-0.4566  \u001b[0m |\n",
            "| \u001b[0m 70      \u001b[0m | \u001b[0m 0.8451  \u001b[0m | \u001b[0m-0.2524  \u001b[0m | \u001b[0m 0.8183  \u001b[0m |\n",
            "| \u001b[0m 71      \u001b[0m | \u001b[0m-2.781   \u001b[0m | \u001b[0m 1.871   \u001b[0m | \u001b[0m 0.3923  \u001b[0m |\n",
            "| \u001b[0m 72      \u001b[0m | \u001b[0m 0.2056  \u001b[0m | \u001b[0m-1.73    \u001b[0m | \u001b[0m 0.8138  \u001b[0m |\n",
            "| \u001b[0m 73      \u001b[0m | \u001b[0m-0.5985  \u001b[0m | \u001b[0m-1.665   \u001b[0m | \u001b[0m 0.4653  \u001b[0m |\n",
            "| \u001b[0m 74      \u001b[0m | \u001b[0m-0.5527  \u001b[0m | \u001b[0m-1.198   \u001b[0m | \u001b[0m 0.833   \u001b[0m |\n",
            "| \u001b[0m 75      \u001b[0m | \u001b[0m 0.8273  \u001b[0m | \u001b[0m 0.2186  \u001b[0m | \u001b[0m-0.5765  \u001b[0m |\n",
            "| \u001b[0m 76      \u001b[0m | \u001b[0m 0.6037  \u001b[0m | \u001b[0m-0.2482  \u001b[0m | \u001b[0m 0.486   \u001b[0m |\n",
            "| \u001b[0m 77      \u001b[0m | \u001b[0m-0.9963  \u001b[0m | \u001b[0m 1.542   \u001b[0m | \u001b[0m-0.3916  \u001b[0m |\n",
            "| \u001b[0m 78      \u001b[0m | \u001b[0m-0.2843  \u001b[0m | \u001b[0m 1.476   \u001b[0m | \u001b[0m-0.9111  \u001b[0m |\n",
            "| \u001b[0m 79      \u001b[0m | \u001b[0m 0.104   \u001b[0m | \u001b[0m 1.705   \u001b[0m | \u001b[0m-0.69    \u001b[0m |\n",
            "| \u001b[0m 80      \u001b[0m | \u001b[0m-0.01691 \u001b[0m | \u001b[0m 1.542   \u001b[0m | \u001b[0m-0.7155  \u001b[0m |\n",
            "| \u001b[0m 81      \u001b[0m | \u001b[0m-0.6117  \u001b[0m | \u001b[0m 0.5047  \u001b[0m | \u001b[0m-0.2109  \u001b[0m |\n",
            "| \u001b[0m 82      \u001b[0m | \u001b[0m 0.9873  \u001b[0m | \u001b[0m 0.1828  \u001b[0m | \u001b[0m-0.7546  \u001b[0m |\n",
            "| \u001b[0m 83      \u001b[0m | \u001b[0m 0.9485  \u001b[0m | \u001b[0m-0.01755 \u001b[0m | \u001b[0m 0.7916  \u001b[0m |\n",
            "| \u001b[0m 84      \u001b[0m | \u001b[0m 0.7576  \u001b[0m | \u001b[0m-0.0441  \u001b[0m | \u001b[0m 0.4967  \u001b[0m |\n",
            "| \u001b[0m 85      \u001b[0m | \u001b[0m-0.1949  \u001b[0m | \u001b[0m-0.6402  \u001b[0m | \u001b[0m 0.5171  \u001b[0m |\n",
            "| \u001b[0m 86      \u001b[0m | \u001b[0m 0.7934  \u001b[0m | \u001b[0m-0.1336  \u001b[0m | \u001b[0m-0.6205  \u001b[0m |\n",
            "| \u001b[0m 87      \u001b[0m | \u001b[0m 0.6688  \u001b[0m | \u001b[0m 0.4082  \u001b[0m | \u001b[0m-0.6888  \u001b[0m |\n",
            "| \u001b[0m 88      \u001b[0m | \u001b[0m 0.9318  \u001b[0m | \u001b[0m 0.04355 \u001b[0m | \u001b[0m 0.6399  \u001b[0m |\n",
            "| \u001b[0m 89      \u001b[0m | \u001b[0m 0.922   \u001b[0m | \u001b[0m 0.008069\u001b[0m | \u001b[0m-0.8032  \u001b[0m |\n",
            "| \u001b[0m 90      \u001b[0m | \u001b[0m 0.8139  \u001b[0m | \u001b[0m-0.301   \u001b[0m | \u001b[0m 0.6395  \u001b[0m |\n",
            "| \u001b[0m 91      \u001b[0m | \u001b[0m 0.8027  \u001b[0m | \u001b[0m 0.06263 \u001b[0m | \u001b[0m-0.5183  \u001b[0m |\n",
            "| \u001b[0m 92      \u001b[0m | \u001b[0m 0.3603  \u001b[0m | \u001b[0m 0.3278  \u001b[0m | \u001b[0m 0.6582  \u001b[0m |\n",
            "| \u001b[0m 93      \u001b[0m | \u001b[0m 0.9952  \u001b[0m | \u001b[0m-0.138   \u001b[0m | \u001b[0m 0.7711  \u001b[0m |\n",
            "| \u001b[0m 94      \u001b[0m | \u001b[0m 1.01    \u001b[0m | \u001b[0m 0.1262  \u001b[0m | \u001b[0m-0.669   \u001b[0m |\n",
            "| \u001b[0m 95      \u001b[0m | \u001b[0m 0.9815  \u001b[0m | \u001b[0m-0.195   \u001b[0m | \u001b[0m 0.6865  \u001b[0m |\n",
            "| \u001b[0m 96      \u001b[0m | \u001b[0m 0.01197 \u001b[0m | \u001b[0m-0.01136 \u001b[0m | \u001b[0m-0.0574  \u001b[0m |\n",
            "| \u001b[0m 97      \u001b[0m | \u001b[0m 1.009   \u001b[0m | \u001b[0m 0.09587 \u001b[0m | \u001b[0m-0.7634  \u001b[0m |\n",
            "| \u001b[0m 98      \u001b[0m | \u001b[0m 0.9408  \u001b[0m | \u001b[0m 0.2431  \u001b[0m | \u001b[0m-0.7005  \u001b[0m |\n",
            "| \u001b[95m 99      \u001b[0m | \u001b[95m 1.029   \u001b[0m | \u001b[95m-0.06794 \u001b[0m | \u001b[95m 0.7055  \u001b[0m |\n",
            "| \u001b[0m 100     \u001b[0m | \u001b[0m 0.5201  \u001b[0m | \u001b[0m 0.131   \u001b[0m | \u001b[0m 0.8789  \u001b[0m |\n",
            "| \u001b[0m 101     \u001b[0m | \u001b[0m 0.989   \u001b[0m | \u001b[0m-0.009742\u001b[0m | \u001b[0m-0.7279  \u001b[0m |\n",
            "| \u001b[95m 102     \u001b[0m | \u001b[95m 1.032   \u001b[0m | \u001b[95m 0.08489 \u001b[0m | \u001b[95m-0.7134  \u001b[0m |\n",
            "| \u001b[0m 103     \u001b[0m | \u001b[0m 1.02    \u001b[0m | \u001b[0m-0.03587 \u001b[0m | \u001b[0m 0.7036  \u001b[0m |\n",
            "| \u001b[0m 104     \u001b[0m | \u001b[0m 0.9508  \u001b[0m | \u001b[0m 0.001179\u001b[0m | \u001b[0m-0.6231  \u001b[0m |\n",
            "| \u001b[0m 105     \u001b[0m | \u001b[0m 1.029   \u001b[0m | \u001b[0m-0.1102  \u001b[0m | \u001b[0m 0.7229  \u001b[0m |\n",
            "| \u001b[0m 106     \u001b[0m | \u001b[0m 0.9668  \u001b[0m | \u001b[0m-0.08656 \u001b[0m | \u001b[0m 0.6171  \u001b[0m |\n",
            "| \u001b[0m 107     \u001b[0m | \u001b[0m-0.6201  \u001b[0m | \u001b[0m 1.266   \u001b[0m | \u001b[0m-0.8955  \u001b[0m |\n",
            "| \u001b[0m 108     \u001b[0m | \u001b[0m 1.025   \u001b[0m | \u001b[0m 0.13    \u001b[0m | \u001b[0m-0.708   \u001b[0m |\n",
            "| \u001b[0m 109     \u001b[0m | \u001b[0m 0.9792  \u001b[0m | \u001b[0m 0.02053 \u001b[0m | \u001b[0m 0.7294  \u001b[0m |\n",
            "| \u001b[0m 110     \u001b[0m | \u001b[0m 1.029   \u001b[0m | \u001b[0m 0.06605 \u001b[0m | \u001b[0m-0.7135  \u001b[0m |\n",
            "| \u001b[0m 111     \u001b[0m | \u001b[0m 1.031   \u001b[0m | \u001b[0m-0.09532 \u001b[0m | \u001b[0m 0.7172  \u001b[0m |\n",
            "=================================================\n",
            "{'target': 1.0315238171217054, 'params': {'x1': 0.08488968290376103, 'x2': -0.7134409049862657}}\n"
          ]
        }
      ]
    },
    {
      "cell_type": "code",
      "source": [
        "# Here we are multiplying the target value with (-1) since we found the value of negative of the objective function\n",
        "target = -1*opt.max['target']\n",
        "min = opt.max['params']\n",
        "print(f'The function reaches value of {target} at the minimum point {min}')"
      ],
      "metadata": {
        "colab": {
          "base_uri": "https://localhost:8080/"
        },
        "id": "bzX9wFFc0FbF",
        "outputId": "5e9e49a8-3f09-4599-d8f8-761d6b64b1f0"
      },
      "execution_count": 53,
      "outputs": [
        {
          "output_type": "stream",
          "name": "stdout",
          "text": [
            "The function reaches value of -1.0315238171217054 at the minimum point {'x1': 0.08488968290376103, 'x2': -0.7134409049862657}\n"
          ]
        }
      ]
    }
  ]
}