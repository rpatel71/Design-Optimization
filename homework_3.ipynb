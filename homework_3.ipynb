{
  "nbformat": 4,
  "nbformat_minor": 0,
  "metadata": {
    "colab": {
      "provenance": [],
      "authorship_tag": "ABX9TyOR4ora0MzLRDygg0WK9Cqc",
      "include_colab_link": true
    },
    "kernelspec": {
      "name": "python3",
      "display_name": "Python 3"
    },
    "language_info": {
      "name": "python"
    }
  },
  "cells": [
    {
      "cell_type": "markdown",
      "metadata": {
        "id": "view-in-github",
        "colab_type": "text"
      },
      "source": [
        "<a href=\"https://colab.research.google.com/github/rpatel71/Design-Optimization/blob/main/homework_3.ipynb\" target=\"_parent\"><img src=\"https://colab.research.google.com/assets/colab-badge.svg\" alt=\"Open In Colab\"/></a>"
      ]
    },
    {
      "cell_type": "markdown",
      "source": [
        "This is the answer of the homework-3 of Design Optimization.\n",
        "\n",
        "Problem 1"
      ],
      "metadata": {
        "id": "cvJ33FHRzBJx"
      }
    },
    {
      "cell_type": "code",
      "execution_count": 7,
      "metadata": {
        "id": "plR2ggpiy70K"
      },
      "outputs": [],
      "source": [
        "# importing all the libraries required\n",
        "import numpy as np\n",
        "import torch as tor\n",
        "from torch.autograd import Variable\n",
        "import matplotlib.pyplot as plt\n",
        "\n",
        "X1 = np.array([[0.0, 0.1, 0.2, 0.3, 0.4, 0.5, 0.6, 0.7, 0.8, 0.9, 1.0]])\n",
        "X2 = np.flip(X1, axis = 1).copy()\n",
        "a = np.array(([[8.0731, 1730.63, 233.426], [7.43155, 1554.679, 240.337]]))\n",
        "\n",
        "# T = 20\n",
        "p_w = 10 ** (a[0, 0] - a[0, 1] / (20 + a[0, 2]))\n",
        "p_diox = 10 ** (a[1, 0] - a[1, 1] / (20 + a[1, 2]))\n",
        "P = np.array([[28.1, 34.4, 36.7, 36.9, 36.8, 36.7, 36.5, 35.4, 32.9, 27.7, 17.5]])\n",
        "P = tor.tensor(P, requires_grad=False, dtype=tor.float32)\n",
        "\n",
        "A = Variable(tor.tensor([1.0, 2.0]), requires_grad=True)\n",
        "\n",
        "x1 = tor.tensor(X1, requires_grad=False, dtype=tor.float32)\n",
        "x2 = tor.tensor(X2, requires_grad=False, dtype=tor.float32)\n"
      ]
    },
    {
      "cell_type": "markdown",
      "source": [
        "Problem 2"
      ],
      "metadata": {
        "id": "6vtVcMXGCPVQ"
      }
    },
    {
      "cell_type": "code",
      "source": [],
      "metadata": {
        "id": "P1feWb_hCR5x"
      },
      "execution_count": null,
      "outputs": []
    }
  ]
}