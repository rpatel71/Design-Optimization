{
  "nbformat": 4,
  "nbformat_minor": 0,
  "metadata": {
    "colab": {
      "provenance": [],
      "authorship_tag": "ABX9TyPUr6H7kZeLNj/8McfOMQd7",
      "include_colab_link": true
    },
    "kernelspec": {
      "name": "python3",
      "display_name": "Python 3"
    },
    "language_info": {
      "name": "python"
    }
  },
  "cells": [
    {
      "cell_type": "markdown",
      "metadata": {
        "id": "view-in-github",
        "colab_type": "text"
      },
      "source": [
        "<a href=\"https://colab.research.google.com/github/rpatel71/Design-Optimization/blob/main/homework_3.ipynb\" target=\"_parent\"><img src=\"https://colab.research.google.com/assets/colab-badge.svg\" alt=\"Open In Colab\"/></a>"
      ]
    },
    {
      "cell_type": "markdown",
      "source": [
        "This is the answer of the homework-3 of Design Optimization.\n",
        "\n",
        "Problem 1"
      ],
      "metadata": {
        "id": "cvJ33FHRzBJx"
      }
    },
    {
      "cell_type": "code",
      "execution_count": 1,
      "metadata": {
        "colab": {
          "base_uri": "https://localhost:8080/"
        },
        "id": "plR2ggpiy70K",
        "outputId": "132f9d9d-5d37-4fc3-afaa-0c58b4cc0b71"
      },
      "outputs": [
        {
          "output_type": "stream",
          "name": "stdout",
          "text": [
            "estimation of A12 and A21 is:  tensor([1.9531, 1.6834], requires_grad=True)\n",
            "final loss is:  0.67093503\n"
          ]
        }
      ],
      "source": [
        "# importing all the libraries required\n",
        "import numpy as np\n",
        "import torch as tor\n",
        "from torch.autograd import Variable\n",
        "import matplotlib.pyplot as plt\n",
        "\n",
        "X1 = np.array([[0.0, 0.1, 0.2, 0.3, 0.4, 0.5, 0.6, 0.7, 0.8, 0.9, 1.0]])\n",
        "X2 = np.flip(X1, axis = 1).copy()\n",
        "a = np.array(([[8.0731, 1730.63, 233.426], [7.43155, 1554.679, 240.337]]))\n",
        "\n",
        "# T = 20\n",
        "p_w = 10 ** (a[0, 0] - a[0, 1] / (20 + a[0, 2]))\n",
        "p_diox = 10 ** (a[1, 0] - a[1, 1] / (20 + a[1, 2]))\n",
        "P = np.array([[28.1, 34.4, 36.7, 36.9, 36.8, 36.7, 36.5, 35.4, 32.9, 27.7, 17.5]])\n",
        "P = tor.tensor(P, requires_grad=False, dtype=tor.float32)\n",
        "\n",
        "A = Variable(tor.tensor([2.0, 2.0]), requires_grad=True)\n",
        "\n",
        "x1 = tor.tensor(X1, requires_grad=False, dtype=tor.float32)\n",
        "x2 = tor.tensor(X2, requires_grad=False, dtype=tor.float32)\n",
        "\n",
        "a = 0.001\n",
        "\n",
        "for i in range(100):\n",
        "    P_cal = x1 * tor.exp(A[0] * (A[1] * x2 / (A[0] * x1 + A[1] * x2)) ** 2) * p_w + \\\n",
        "          x2 * tor.exp(A[1] * (A[0] * x1 / (A[0] * x1 + A[1] * x2)) ** 2) * p_diox\n",
        "\n",
        "    loss = (P_cal - P) ** 2\n",
        "    loss = loss.sum()\n",
        "\n",
        "    loss.backward()\n",
        "\n",
        "    with tor.no_grad():\n",
        "        A -= a * A.grad\n",
        "        A.grad.zero_()\n",
        "\n",
        "print('estimation of A12 and A21 is: ', A)\n",
        "print('final loss is: ', loss.data.numpy())"
      ]
    },
    {
      "cell_type": "markdown",
      "source": [
        "Problem 2"
      ],
      "metadata": {
        "id": "6vtVcMXGCPVQ"
      }
    },
    {
      "cell_type": "code",
      "source": [
        "!pip install bayesian-optimization"
      ],
      "metadata": {
        "colab": {
          "base_uri": "https://localhost:8080/"
        },
        "id": "-pJHPykbMXrR",
        "outputId": "cd754e0a-79bc-4d4a-fedd-65aa34cf2270"
      },
      "execution_count": 2,
      "outputs": [
        {
          "output_type": "stream",
          "name": "stdout",
          "text": [
            "Looking in indexes: https://pypi.org/simple, https://us-python.pkg.dev/colab-wheels/public/simple/\n",
            "Requirement already satisfied: bayesian-optimization in /usr/local/lib/python3.7/dist-packages (1.2.0)\n",
            "Requirement already satisfied: scikit-learn>=0.18.0 in /usr/local/lib/python3.7/dist-packages (from bayesian-optimization) (1.0.2)\n",
            "Requirement already satisfied: numpy>=1.9.0 in /usr/local/lib/python3.7/dist-packages (from bayesian-optimization) (1.21.6)\n",
            "Requirement already satisfied: scipy>=0.14.0 in /usr/local/lib/python3.7/dist-packages (from bayesian-optimization) (1.7.3)\n",
            "Requirement already satisfied: joblib>=0.11 in /usr/local/lib/python3.7/dist-packages (from scikit-learn>=0.18.0->bayesian-optimization) (1.2.0)\n",
            "Requirement already satisfied: threadpoolctl>=2.0.0 in /usr/local/lib/python3.7/dist-packages (from scikit-learn>=0.18.0->bayesian-optimization) (3.1.0)\n"
          ]
        }
      ]
    },
    {
      "cell_type": "code",
      "source": [
        "from bayes_opt import BayesianOptimization\n",
        "def eq(x1, x2):\n",
        "  var = -((4 - (2.1*x1**2)+((x1**4)/3))*x1**2 + (x1*x2) + (-4 + 4*(x1**2)) * x1**2)\n",
        "  # we are taking the var as \"negative\" because this library only have maximize function.\n",
        "  var_flip = -var\n",
        "  return var\n",
        "lim = {'x1': (-3, 3), 'x2': (-2, 2)}\n",
        "\n",
        "opt = BayesianOptimization(f=eq, pbounds=lim, random_state=1)\n",
        "\n",
        "# To minimize the function required, we need to use maximize function since we have already taken the function as negative.\n",
        "opt.maximize(init_points = 10, n_iter = 100)\n",
        "print(opt.max)"
      ],
      "metadata": {
        "id": "eZ2IhGYbMpMu",
        "colab": {
          "base_uri": "https://localhost:8080/"
        },
        "outputId": "48638b2d-217b-46a6-9224-913e32d5caff"
      },
      "execution_count": 14,
      "outputs": [
        {
          "output_type": "stream",
          "name": "stdout",
          "text": [
            "|   iter    |  target   |    x1     |    x2     |\n",
            "-------------------------------------------------\n",
            "| \u001b[0m 1       \u001b[0m | \u001b[0m 0.317   \u001b[0m | \u001b[0m-0.4979  \u001b[0m | \u001b[0m 0.8813  \u001b[0m |\n",
            "| \u001b[0m 2       \u001b[0m | \u001b[0m-398.8   \u001b[0m | \u001b[0m-2.999   \u001b[0m | \u001b[0m-0.7907  \u001b[0m |\n",
            "| \u001b[0m 3       \u001b[0m | \u001b[0m-72.01   \u001b[0m | \u001b[0m-2.119   \u001b[0m | \u001b[0m-1.631   \u001b[0m |\n",
            "| \u001b[0m 4       \u001b[0m | \u001b[0m-39.85   \u001b[0m | \u001b[0m-1.882   \u001b[0m | \u001b[0m-0.6178  \u001b[0m |\n",
            "| \u001b[0m 5       \u001b[0m | \u001b[0m-0.2023  \u001b[0m | \u001b[0m-0.6194  \u001b[0m | \u001b[0m 0.1553  \u001b[0m |\n",
            "| \u001b[0m 6       \u001b[0m | \u001b[0m 0.2499  \u001b[0m | \u001b[0m-0.4848  \u001b[0m | \u001b[0m 0.7409  \u001b[0m |\n",
            "| \u001b[0m 7       \u001b[0m | \u001b[0m-26.47   \u001b[0m | \u001b[0m-1.773   \u001b[0m | \u001b[0m 1.512   \u001b[0m |\n",
            "| \u001b[0m 8       \u001b[0m | \u001b[0m-294.2   \u001b[0m | \u001b[0m-2.836   \u001b[0m | \u001b[0m 0.6819  \u001b[0m |\n",
            "| \u001b[0m 9       \u001b[0m | \u001b[0m-0.003647\u001b[0m | \u001b[0m-0.4962  \u001b[0m | \u001b[0m 0.2348  \u001b[0m |\n",
            "| \u001b[0m 10      \u001b[0m | \u001b[0m-77.42   \u001b[0m | \u001b[0m-2.158   \u001b[0m | \u001b[0m-1.208   \u001b[0m |\n",
            "| \u001b[0m 11      \u001b[0m | \u001b[0m-0.2291  \u001b[0m | \u001b[0m-0.1201  \u001b[0m | \u001b[0m-1.905   \u001b[0m |\n",
            "| \u001b[0m 12      \u001b[0m | \u001b[0m-96.04   \u001b[0m | \u001b[0m 2.274   \u001b[0m | \u001b[0m-0.3569  \u001b[0m |\n",
            "| \u001b[0m 13      \u001b[0m | \u001b[0m-13.09   \u001b[0m | \u001b[0m 1.414   \u001b[0m | \u001b[0m 1.996   \u001b[0m |\n",
            "| \u001b[0m 14      \u001b[0m | \u001b[0m-402.9   \u001b[0m | \u001b[0m 3.0     \u001b[0m | \u001b[0m 2.0     \u001b[0m |\n",
            "| \u001b[0m 15      \u001b[0m | \u001b[0m-21.6    \u001b[0m | \u001b[0m 1.717   \u001b[0m | \u001b[0m-1.996   \u001b[0m |\n",
            "| \u001b[0m 16      \u001b[0m | \u001b[0m-0.4813  \u001b[0m | \u001b[0m 0.2376  \u001b[0m | \u001b[0m 2.0     \u001b[0m |\n",
            "| \u001b[0m 17      \u001b[0m | \u001b[0m-390.9   \u001b[0m | \u001b[0m 3.0     \u001b[0m | \u001b[0m-2.0     \u001b[0m |\n",
            "| \u001b[0m 18      \u001b[0m | \u001b[0m-0.3384  \u001b[0m | \u001b[0m 0.8391  \u001b[0m | \u001b[0m-0.8577  \u001b[0m |\n",
            "| \u001b[0m 19      \u001b[0m | \u001b[0m-3.066   \u001b[0m | \u001b[0m 1.005   \u001b[0m | \u001b[0m 0.7755  \u001b[0m |\n",
            "| \u001b[0m 20      \u001b[0m | \u001b[0m-3.389   \u001b[0m | \u001b[0m-0.9979  \u001b[0m | \u001b[0m-1.178   \u001b[0m |\n",
            "| \u001b[95m 21      \u001b[0m | \u001b[95m 0.6037  \u001b[0m | \u001b[95m 0.8439  \u001b[0m | \u001b[95m-2.0     \u001b[0m |\n",
            "| \u001b[0m 22      \u001b[0m | \u001b[0m-0.2464  \u001b[0m | \u001b[0m-1.002   \u001b[0m | \u001b[0m 2.0     \u001b[0m |\n",
            "| \u001b[0m 23      \u001b[0m | \u001b[0m-390.9   \u001b[0m | \u001b[0m-3.0     \u001b[0m | \u001b[0m 2.0     \u001b[0m |\n",
            "| \u001b[0m 24      \u001b[0m | \u001b[0m-5.812   \u001b[0m | \u001b[0m-1.115   \u001b[0m | \u001b[0m-1.997   \u001b[0m |\n",
            "| \u001b[0m 25      \u001b[0m | \u001b[0m-8.156   \u001b[0m | \u001b[0m-1.382   \u001b[0m | \u001b[0m 0.7965  \u001b[0m |\n",
            "| \u001b[0m 26      \u001b[0m | \u001b[0m-10.93   \u001b[0m | \u001b[0m 1.485   \u001b[0m | \u001b[0m-1.27    \u001b[0m |\n",
            "| \u001b[0m 27      \u001b[0m | \u001b[0m-5.072   \u001b[0m | \u001b[0m 1.214   \u001b[0m | \u001b[0m-0.09837 \u001b[0m |\n",
            "| \u001b[0m 28      \u001b[0m | \u001b[0m-2.078   \u001b[0m | \u001b[0m 0.7948  \u001b[0m | \u001b[0m 1.554   \u001b[0m |\n",
            "| \u001b[0m 29      \u001b[0m | \u001b[0m-0.04578 \u001b[0m | \u001b[0m-0.06304 \u001b[0m | \u001b[0m-0.7257  \u001b[0m |\n",
            "| \u001b[0m 30      \u001b[0m | \u001b[0m-0.151   \u001b[0m | \u001b[0m 0.4499  \u001b[0m | \u001b[0m 0.1565  \u001b[0m |\n",
            "| \u001b[0m 31      \u001b[0m | \u001b[0m-2.356   \u001b[0m | \u001b[0m-1.143   \u001b[0m | \u001b[0m 1.427   \u001b[0m |\n",
            "| \u001b[0m 32      \u001b[0m | \u001b[0m-0.2313  \u001b[0m | \u001b[0m 0.2267  \u001b[0m | \u001b[0m 0.9983  \u001b[0m |\n",
            "| \u001b[0m 33      \u001b[0m | \u001b[0m 0.4557  \u001b[0m | \u001b[0m 0.3456  \u001b[0m | \u001b[0m-1.399   \u001b[0m |\n",
            "| \u001b[0m 34      \u001b[0m | \u001b[0m-6.231   \u001b[0m | \u001b[0m-1.236   \u001b[0m | \u001b[0m-0.489   \u001b[0m |\n",
            "| \u001b[0m 35      \u001b[0m | \u001b[0m-2.648   \u001b[0m | \u001b[0m 0.8275  \u001b[0m | \u001b[0m 1.994   \u001b[0m |\n",
            "| \u001b[95m 36      \u001b[0m | \u001b[95m 0.7636  \u001b[0m | \u001b[95m-0.4092  \u001b[0m | \u001b[95m 2.0     \u001b[0m |\n",
            "| \u001b[0m 37      \u001b[0m | \u001b[0m-24.29   \u001b[0m | \u001b[0m 1.685   \u001b[0m | \u001b[0m 0.7938  \u001b[0m |\n",
            "| \u001b[0m 38      \u001b[0m | \u001b[0m-16.1    \u001b[0m | \u001b[0m-1.517   \u001b[0m | \u001b[0m-1.305   \u001b[0m |\n",
            "| \u001b[0m 39      \u001b[0m | \u001b[0m-0.6343  \u001b[0m | \u001b[0m-0.4056  \u001b[0m | \u001b[0m-1.433   \u001b[0m |\n",
            "| \u001b[0m 40      \u001b[0m | \u001b[0m-2.766   \u001b[0m | \u001b[0m 1.194   \u001b[0m | \u001b[0m-1.722   \u001b[0m |\n",
            "| \u001b[0m 41      \u001b[0m | \u001b[0m 0.1828  \u001b[0m | \u001b[0m-0.1202  \u001b[0m | \u001b[0m 1.524   \u001b[0m |\n",
            "| \u001b[0m 42      \u001b[0m | \u001b[0m-9.544   \u001b[0m | \u001b[0m 1.327   \u001b[0m | \u001b[0m 1.388   \u001b[0m |\n",
            "| \u001b[0m 43      \u001b[0m | \u001b[0m-1.509   \u001b[0m | \u001b[0m-0.6121  \u001b[0m | \u001b[0m-2.0     \u001b[0m |\n",
            "| \u001b[0m 44      \u001b[0m | \u001b[0m 0.1046  \u001b[0m | \u001b[0m 0.4577  \u001b[0m | \u001b[0m-0.4173  \u001b[0m |\n",
            "| \u001b[0m 45      \u001b[0m | \u001b[0m-0.5758  \u001b[0m | \u001b[0m-0.5958  \u001b[0m | \u001b[0m-0.5394  \u001b[0m |\n",
            "| \u001b[0m 46      \u001b[0m | \u001b[0m-8.754   \u001b[0m | \u001b[0m-1.372   \u001b[0m | \u001b[0m 0.1399  \u001b[0m |\n",
            "| \u001b[0m 47      \u001b[0m | \u001b[0m-0.002772\u001b[0m | \u001b[0m-0.02491 \u001b[0m | \u001b[0m-0.1112  \u001b[0m |\n",
            "| \u001b[0m 48      \u001b[0m | \u001b[0m-7.585   \u001b[0m | \u001b[0m 1.354   \u001b[0m | \u001b[0m-0.6287  \u001b[0m |\n",
            "| \u001b[0m 49      \u001b[0m | \u001b[0m 0.6621  \u001b[0m | \u001b[0m 0.3448  \u001b[0m | \u001b[0m-2.0     \u001b[0m |\n",
            "| \u001b[0m 50      \u001b[0m | \u001b[0m-0.02919 \u001b[0m | \u001b[0m 0.05435 \u001b[0m | \u001b[0m 0.5368  \u001b[0m |\n",
            "| \u001b[0m 51      \u001b[0m | \u001b[0m-7.784   \u001b[0m | \u001b[0m-1.425   \u001b[0m | \u001b[0m 2.0     \u001b[0m |\n",
            "| \u001b[0m 52      \u001b[0m | \u001b[0m-4.843   \u001b[0m | \u001b[0m 1.317   \u001b[0m | \u001b[0m-1.99    \u001b[0m |\n",
            "| \u001b[0m 53      \u001b[0m | \u001b[0m-1.238   \u001b[0m | \u001b[0m-0.9512  \u001b[0m | \u001b[0m 0.5924  \u001b[0m |\n",
            "| \u001b[0m 54      \u001b[0m | \u001b[0m 0.08115 \u001b[0m | \u001b[0m 0.8387  \u001b[0m | \u001b[0m-1.356   \u001b[0m |\n",
            "| \u001b[0m 55      \u001b[0m | \u001b[0m-2.597   \u001b[0m | \u001b[0m-0.8605  \u001b[0m | \u001b[0m-1.65    \u001b[0m |\n",
            "| \u001b[0m 56      \u001b[0m | \u001b[0m 0.6899  \u001b[0m | \u001b[0m-0.6253  \u001b[0m | \u001b[0m 1.6     \u001b[0m |\n",
            "| \u001b[0m 57      \u001b[0m | \u001b[0m-8.387   \u001b[0m | \u001b[0m 1.334   \u001b[0m | \u001b[0m 0.3727  \u001b[0m |\n",
            "| \u001b[0m 58      \u001b[0m | \u001b[0m 0.3168  \u001b[0m | \u001b[0m 0.3767  \u001b[0m | \u001b[0m-0.9451  \u001b[0m |\n",
            "| \u001b[0m 59      \u001b[0m | \u001b[0m-0.543   \u001b[0m | \u001b[0m 0.5462  \u001b[0m | \u001b[0m 0.6685  \u001b[0m |\n",
            "| \u001b[0m 60      \u001b[0m | \u001b[0m-0.6228  \u001b[0m | \u001b[0m-0.5031  \u001b[0m | \u001b[0m-0.9853  \u001b[0m |\n",
            "| \u001b[95m 61      \u001b[0m | \u001b[95m 0.7679  \u001b[0m | \u001b[95m 0.6118  \u001b[0m | \u001b[95m-1.719   \u001b[0m |\n",
            "| \u001b[0m 62      \u001b[0m | \u001b[0m-0.8087  \u001b[0m | \u001b[0m 0.8332  \u001b[0m | \u001b[0m-0.2624  \u001b[0m |\n",
            "| \u001b[0m 63      \u001b[0m | \u001b[0m-0.5386  \u001b[0m | \u001b[0m 0.3339  \u001b[0m | \u001b[0m 1.541   \u001b[0m |\n",
            "| \u001b[0m 64      \u001b[0m | \u001b[0m-1.222   \u001b[0m | \u001b[0m 0.6844  \u001b[0m | \u001b[0m 1.127   \u001b[0m |\n",
            "| \u001b[0m 65      \u001b[0m | \u001b[0m-0.04358 \u001b[0m | \u001b[0m-0.03648 \u001b[0m | \u001b[0m-1.195   \u001b[0m |\n",
            "| \u001b[0m 66      \u001b[0m | \u001b[0m-3.957   \u001b[0m | \u001b[0m-1.261   \u001b[0m | \u001b[0m 1.74    \u001b[0m |\n",
            "| \u001b[0m 67      \u001b[0m | \u001b[0m-0.3525  \u001b[0m | \u001b[0m-0.8775  \u001b[0m | \u001b[0m 1.056   \u001b[0m |\n",
            "| \u001b[0m 68      \u001b[0m | \u001b[0m-1.347   \u001b[0m | \u001b[0m 0.8523  \u001b[0m | \u001b[0m 0.2547  \u001b[0m |\n",
            "| \u001b[0m 69      \u001b[0m | \u001b[0m-0.1281  \u001b[0m | \u001b[0m-0.3856  \u001b[0m | \u001b[0m-0.2204  \u001b[0m |\n",
            "| \u001b[0m 70      \u001b[0m | \u001b[0m 0.2134  \u001b[0m | \u001b[0m-0.1892  \u001b[0m | \u001b[0m 1.141   \u001b[0m |\n",
            "| \u001b[0m 71      \u001b[0m | \u001b[0m 0.09533 \u001b[0m | \u001b[0m 0.05872 \u001b[0m | \u001b[0m-1.624   \u001b[0m |\n",
            "| \u001b[0m 72      \u001b[0m | \u001b[0m 0.176   \u001b[0m | \u001b[0m-0.08897 \u001b[0m | \u001b[0m 1.98    \u001b[0m |\n",
            "| \u001b[0m 73      \u001b[0m | \u001b[0m-1.853   \u001b[0m | \u001b[0m-0.9423  \u001b[0m | \u001b[0m-0.1287  \u001b[0m |\n",
            "| \u001b[0m 74      \u001b[0m | \u001b[0m 0.5324  \u001b[0m | \u001b[0m-0.531   \u001b[0m | \u001b[0m 1.301   \u001b[0m |\n",
            "| \u001b[0m 75      \u001b[0m | \u001b[0m-5.368   \u001b[0m | \u001b[0m 1.099   \u001b[0m | \u001b[0m 1.831   \u001b[0m |\n",
            "| \u001b[0m 76      \u001b[0m | \u001b[0m-2.167   \u001b[0m | \u001b[0m 1.101   \u001b[0m | \u001b[0m-1.108   \u001b[0m |\n",
            "| \u001b[0m 77      \u001b[0m | \u001b[0m 0.008781\u001b[0m | \u001b[0m-0.03751 \u001b[0m | \u001b[0m 0.2342  \u001b[0m |\n",
            "| \u001b[0m 78      \u001b[0m | \u001b[0m 0.585   \u001b[0m | \u001b[0m-0.3528  \u001b[0m | \u001b[0m 1.743   \u001b[0m |\n",
            "| \u001b[95m 79      \u001b[0m | \u001b[95m 0.9003  \u001b[0m | \u001b[95m-0.6803  \u001b[0m | \u001b[95m 1.97    \u001b[0m |\n",
            "| \u001b[0m 80      \u001b[0m | \u001b[0m 0.05155 \u001b[0m | \u001b[0m 0.1144  \u001b[0m | \u001b[0m-0.4534  \u001b[0m |\n",
            "| \u001b[0m 81      \u001b[0m | \u001b[0m 0.1256  \u001b[0m | \u001b[0m-0.1615  \u001b[0m | \u001b[0m 0.7856  \u001b[0m |\n",
            "| \u001b[95m 82      \u001b[0m | \u001b[95m 0.9384  \u001b[0m | \u001b[95m 0.6009  \u001b[0m | \u001b[95m-2.0     \u001b[0m |\n",
            "| \u001b[0m 83      \u001b[0m | \u001b[0m 0.4242  \u001b[0m | \u001b[0m 0.6061  \u001b[0m | \u001b[0m-1.15    \u001b[0m |\n",
            "| \u001b[0m 84      \u001b[0m | \u001b[0m-1.807   \u001b[0m | \u001b[0m-0.8506  \u001b[0m | \u001b[0m-0.8061  \u001b[0m |\n",
            "| \u001b[0m 85      \u001b[0m | \u001b[0m 0.01958 \u001b[0m | \u001b[0m 0.3485  \u001b[0m | \u001b[0m-0.1383  \u001b[0m |\n",
            "| \u001b[0m 86      \u001b[0m | \u001b[0m-1.754   \u001b[0m | \u001b[0m-0.9731  \u001b[0m | \u001b[0m 0.2398  \u001b[0m |\n",
            "| \u001b[0m 87      \u001b[0m | \u001b[0m-0.7914  \u001b[0m | \u001b[0m-0.418   \u001b[0m | \u001b[0m-1.75    \u001b[0m |\n",
            "| \u001b[0m 88      \u001b[0m | \u001b[0m-0.12    \u001b[0m | \u001b[0m-0.2345  \u001b[0m | \u001b[0m-0.4868  \u001b[0m |\n",
            "| \u001b[0m 89      \u001b[0m | \u001b[0m-0.879   \u001b[0m | \u001b[0m 0.8924  \u001b[0m | \u001b[0m-0.5539  \u001b[0m |\n",
            "| \u001b[0m 90      \u001b[0m | \u001b[0m 0.5755  \u001b[0m | \u001b[0m 0.347   \u001b[0m | \u001b[0m-1.74    \u001b[0m |\n",
            "| \u001b[0m 91      \u001b[0m | \u001b[0m-0.2092  \u001b[0m | \u001b[0m 0.1184  \u001b[0m | \u001b[0m 1.763   \u001b[0m |\n",
            "| \u001b[0m 92      \u001b[0m | \u001b[0m 0.2048  \u001b[0m | \u001b[0m 0.561   \u001b[0m | \u001b[0m-0.7191  \u001b[0m |\n",
            "| \u001b[0m 93      \u001b[0m | \u001b[0m-0.1695  \u001b[0m | \u001b[0m 0.1305  \u001b[0m | \u001b[0m 1.295   \u001b[0m |\n",
            "| \u001b[0m 94      \u001b[0m | \u001b[0m-1.381   \u001b[0m | \u001b[0m-0.7025  \u001b[0m | \u001b[0m-1.249   \u001b[0m |\n",
            "| \u001b[0m 95      \u001b[0m | \u001b[0m-0.1688  \u001b[0m | \u001b[0m 0.3324  \u001b[0m | \u001b[0m 0.4367  \u001b[0m |\n",
            "| \u001b[0m 96      \u001b[0m | \u001b[0m-0.1025  \u001b[0m | \u001b[0m-0.6748  \u001b[0m | \u001b[0m 0.4786  \u001b[0m |\n",
            "| \u001b[0m 97      \u001b[0m | \u001b[0m 0.2511  \u001b[0m | \u001b[0m-0.7965  \u001b[0m | \u001b[0m 1.382   \u001b[0m |\n",
            "| \u001b[0m 98      \u001b[0m | \u001b[0m 0.3944  \u001b[0m | \u001b[0m 0.8427  \u001b[0m | \u001b[0m-1.747   \u001b[0m |\n",
            "| \u001b[0m 99      \u001b[0m | \u001b[0m 0.1283  \u001b[0m | \u001b[0m-0.2925  \u001b[0m | \u001b[0m 0.487   \u001b[0m |\n",
            "| \u001b[0m 100     \u001b[0m | \u001b[0m-1.076   \u001b[0m | \u001b[0m 0.5128  \u001b[0m | \u001b[0m 1.83    \u001b[0m |\n",
            "| \u001b[0m 101     \u001b[0m | \u001b[0m 0.3981  \u001b[0m | \u001b[0m-0.844   \u001b[0m | \u001b[0m 1.757   \u001b[0m |\n",
            "| \u001b[0m 102     \u001b[0m | \u001b[0m 0.1801  \u001b[0m | \u001b[0m 0.0901  \u001b[0m | \u001b[0m-2.0     \u001b[0m |\n",
            "| \u001b[0m 103     \u001b[0m | \u001b[0m 0.6379  \u001b[0m | \u001b[0m 0.5902  \u001b[0m | \u001b[0m-1.495   \u001b[0m |\n",
            "| \u001b[0m 104     \u001b[0m | \u001b[0m 0.1444  \u001b[0m | \u001b[0m 0.2098  \u001b[0m | \u001b[0m-0.706   \u001b[0m |\n",
            "| \u001b[0m 105     \u001b[0m | \u001b[0m-0.2742  \u001b[0m | \u001b[0m 0.622   \u001b[0m | \u001b[0m-0.04739 \u001b[0m |\n",
            "| \u001b[0m 106     \u001b[0m | \u001b[0m 0.004646\u001b[0m | \u001b[0m-0.2744  \u001b[0m | \u001b[0m 0.0567  \u001b[0m |\n",
            "| \u001b[0m 107     \u001b[0m | \u001b[0m-3.499   \u001b[0m | \u001b[0m 1.007   \u001b[0m | \u001b[0m 1.194   \u001b[0m |\n",
            "| \u001b[0m 108     \u001b[0m | \u001b[0m 0.839   \u001b[0m | \u001b[0m-0.5878  \u001b[0m | \u001b[0m 1.837   \u001b[0m |\n",
            "| \u001b[0m 109     \u001b[0m | \u001b[0m-0.6189  \u001b[0m | \u001b[0m-0.3015  \u001b[0m | \u001b[0m-2.0     \u001b[0m |\n",
            "| \u001b[0m 110     \u001b[0m | \u001b[0m-0.004868\u001b[0m | \u001b[0m-0.7319  \u001b[0m | \u001b[0m 0.8082  \u001b[0m |\n",
            "=================================================\n",
            "{'target': 0.9383954012540039, 'params': {'x1': 0.6009446305799, 'x2': -2.0}}\n"
          ]
        }
      ]
    }
  ]
}