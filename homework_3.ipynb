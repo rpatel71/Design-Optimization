{
  "nbformat": 4,
  "nbformat_minor": 0,
  "metadata": {
    "colab": {
      "provenance": [],
      "authorship_tag": "ABX9TyOJs6iRbOCJikKcufFRZmtR",
      "include_colab_link": true
    },
    "kernelspec": {
      "name": "python3",
      "display_name": "Python 3"
    },
    "language_info": {
      "name": "python"
    }
  },
  "cells": [
    {
      "cell_type": "markdown",
      "metadata": {
        "id": "view-in-github",
        "colab_type": "text"
      },
      "source": [
        "<a href=\"https://colab.research.google.com/github/rpatel71/Design-Optimization/blob/main/homework_3.ipynb\" target=\"_parent\"><img src=\"https://colab.research.google.com/assets/colab-badge.svg\" alt=\"Open In Colab\"/></a>"
      ]
    },
    {
      "cell_type": "markdown",
      "source": [
        "This is the answer of the homework-3 of Design Optimization.\n",
        "\n",
        "Problem 1"
      ],
      "metadata": {
        "id": "cvJ33FHRzBJx"
      }
    },
    {
      "cell_type": "code",
      "execution_count": null,
      "metadata": {
        "id": "plR2ggpiy70K"
      },
      "outputs": [],
      "source": [
        "# importing all the libraries required\n",
        "import numpy as np\n",
        "import torch as tor\n",
        "from torch.autograd import variable\n",
        "import matplotlib as plt"
      ]
    }
  ]
}