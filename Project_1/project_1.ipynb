{
  "nbformat": 4,
  "nbformat_minor": 0,
  "metadata": {
    "colab": {
      "provenance": [],
      "authorship_tag": "ABX9TyPE/s+c0pNfgfx5aFCnRq/h",
      "include_colab_link": true
    },
    "kernelspec": {
      "name": "python3",
      "display_name": "Python 3"
    },
    "language_info": {
      "name": "python"
    }
  },
  "cells": [
    {
      "cell_type": "markdown",
      "metadata": {
        "id": "view-in-github",
        "colab_type": "text"
      },
      "source": [
        "<a href=\"https://colab.research.google.com/github/rpatel71/Design-Optimization/blob/main/Project_1/project_1.ipynb\" target=\"_parent\"><img src=\"https://colab.research.google.com/assets/colab-badge.svg\" alt=\"Open In Colab\"/></a>"
      ]
    },
    {
      "cell_type": "code",
      "execution_count": 1,
      "metadata": {
        "id": "m4ts27_V5npa"
      },
      "outputs": [],
      "source": [
        "import numpy as np\n",
        "import random\n",
        "import logging\n",
        "import torch as t\n",
        "import math\n",
        "import time\n",
        "from torch.nn import utils\n",
        "import torch.nn as nn\n",
        "from torch import optim \n",
        "from matplotlib import pyplot as plt\n",
        "\n",
        "logger = logging.getLogger(__name__)"
      ]
    },
    {
      "cell_type": "code",
      "source": [
        "# environment parameters\n",
        "\n",
        "FRAME_TIME = 1 # time interval\n",
        "GRAVITY_ACCEL = 9.81  # gravity constant\n",
        "BOOST_ACCEL = 400  # thrust constant\n",
        "\n",
        "\n",
        "# # the following parameters are not being used in the sample code\n",
        "# PLATFORM_WIDTH = 0.25  # landing platform width\n",
        "# PLATFORM_HEIGHT = 0.06  # landing platform height\n",
        "# ROTATION_ACCEL = 20  # rotation constant"
      ],
      "metadata": {
        "id": "AFXxq8c-8zWq"
      },
      "execution_count": null,
      "outputs": []
    },
    {
      "cell_type": "code",
      "source": [
        "# define system dynamics\n",
        "# Notes: \n",
        "# 0. You only need to modify the \"forward\" function\n",
        "# 1. All variables in \"forward\" need to be PyTorch tensors.\n",
        "# 2. All math operations in \"forward\" has to be differentiable, e.g., default PyTorch functions.\n",
        "# 3. Do not use inplace operations, e.g., x += 1. Please see the following section for an example that does not work.\n",
        "\n",
        "class Dynamics(nn.Module):\n",
        "\n",
        "    def __init__(self):\n",
        "        super(Dynamics, self).__init__()\n",
        "\n",
        "    @staticmethod\n",
        "    def forward(state, action):\n",
        "\n",
        "        \"\"\"\n",
        "        action: thrust or no thrust\n",
        "        state[0] = y\n",
        "        state[1] = y_dot\n",
        "        \"\"\"\n",
        "        \n",
        "        # Apply gravity\n",
        "        # Note: Here gravity is used to change velocity which is the second element of the state vector\n",
        "        # Normally, we would do x[1] = x[1] + gravity * delta_time\n",
        "        # but this is not allowed in PyTorch since it overwrites one variable (x[1]) that is part of the computational graph to be differentiated.\n",
        "        # Therefore, I define a tensor dx = [0., gravity * delta_time], and do x = x + dx. This is allowed... \n",
        "        delta_state_gravity = t.tensor([0., GRAVITY_ACCEL * FRAME_TIME])\n",
        "\n",
        "        # Thrust\n",
        "        # Note: Same reason as above. Need a 2-by-1 tensor.\n",
        "        delta_state = BOOST_ACCEL * FRAME_TIME * t.tensor([0., -1.]) * action\n",
        "\n",
        "        # Update velocity\n",
        "        state = state + delta_state + delta_state_gravity\n",
        "                \n",
        "        # Update state\n",
        "        # Note: Same as above. Use operators on matrices/tensors as much as possible. Do not use element-wise operators as they are considered inplace.\n",
        "        step_mat = t.tensor([[1., FRAME_TIME],\n",
        "                            [0., 1.]])\n",
        "        state = t.matmul(step_mat, state)\n",
        "\n",
        "        return state"
      ],
      "metadata": {
        "id": "5BD2DUIo8_4V"
      },
      "execution_count": null,
      "outputs": []
    },
    {
      "cell_type": "code",
      "source": [
        "# Demonstrate the inplace operation issue\n",
        "\n",
        "class Dynamics(nn.Module):\n",
        "\n",
        "    def __init__(self):\n",
        "        super(Dynamics, self).__init__()\n",
        "\n",
        "    @staticmethod\n",
        "    def forward(state, action):\n",
        "\n",
        "        \"\"\"\n",
        "        action: thrust or no thrust\n",
        "        state[0] = y\n",
        "        state[1] = y_dot\n",
        "        \"\"\"\n",
        "\n",
        "        # Update velocity using element-wise operation. This leads to an error from PyTorch.\n",
        "        state[1] = state[1] + GRAVITY_ACCEL * FRAME_TIME - BOOST_ACCEL * FRAME_TIME * action\n",
        "        \n",
        "        # Update state\n",
        "        step_mat = t.tensor([[1., FRAME_TIME],\n",
        "                            [0., 1.]])\n",
        "        state = t.matmul(step_mat, state)\n",
        "\n",
        "        return state"
      ],
      "metadata": {
        "id": "0lmZxrI39t5P"
      },
      "execution_count": null,
      "outputs": []
    },
    {
      "cell_type": "code",
      "source": [
        "# a deterministic controller\n",
        "# Note:\n",
        "# 0. You only need to change the network architecture in \"__init__\"\n",
        "# 1. nn.Sigmoid outputs values from 0 to 1, nn.Tanh from -1 to 1\n",
        "# 2. You have all the freedom to make the network wider (by increasing \"dim_hidden\") or deeper (by adding more lines to nn.Sequential)\n",
        "# 3. Always start with something simple\n",
        "\n",
        "class Controller(nn.Module):\n",
        "\n",
        "    def __init__(self, dim_input, dim_hidden, dim_output):\n",
        "        \"\"\"\n",
        "        dim_input: # of system states\n",
        "        dim_output: # of actions\n",
        "        dim_hidden: up to you\n",
        "        \"\"\"\n",
        "        super(Controller, self).__init__()\n",
        "        self.network = nn.Sequential(\n",
        "            nn.Linear(dim_input, dim_hidden),\n",
        "            nn.Tanh(),\n",
        "            nn.Linear(dim_hidden, dim_output),\n",
        "            # You can add more layers here\n",
        "            nn.Sigmoid()\n",
        "        )\n",
        "\n",
        "    def forward(self, state):\n",
        "        action = self.network(state)\n",
        "        return action"
      ],
      "metadata": {
        "id": "TXKFe80x9z_j"
      },
      "execution_count": null,
      "outputs": []
    },
    {
      "cell_type": "code",
      "source": [
        "# the simulator that rolls out x(1), x(2), ..., x(T)\n",
        "# Note:\n",
        "# 0. Need to change \"initialize_state\" to optimize the controller over a distribution of initial states\n",
        "# 1. self.action_trajectory and self.state_trajectory stores the action and state trajectories along time\n",
        "\n",
        "class Simulation(nn.Module):\n",
        "\n",
        "    def __init__(self, controller, dynamics, T):\n",
        "        super(Simulation, self).__init__()\n",
        "        self.state = self.initialize_state()\n",
        "        self.controller = controller\n",
        "        self.dynamics = dynamics\n",
        "        self.T = T\n",
        "        self.action_trajectory = []\n",
        "        self.state_trajectory = []\n",
        "\n",
        "    def forward(self, state):\n",
        "        self.action_trajectory = []\n",
        "        self.state_trajectory = []\n",
        "        for _ in range(T):\n",
        "            action = self.controller.forward(state)\n",
        "            state = self.dynamics.forward(state, action)\n",
        "            self.action_trajectory.append(action)\n",
        "            self.state_trajectory.append(state)\n",
        "        return self.error(state)\n",
        "\n",
        "    @staticmethod\n",
        "    def initialize_state():\n",
        "        state = [1., 0.]  # TODO: need batch of initial states\n",
        "        return t.tensor(state, requires_grad=False).float()\n",
        "\n",
        "    def error(self, state):\n",
        "        return state[0]**2 + state[1]**2"
      ],
      "metadata": {
        "id": "DB6RbTv496Yw"
      },
      "execution_count": null,
      "outputs": []
    },
    {
      "cell_type": "code",
      "source": [
        "# set up the optimizer\n",
        "# Note:\n",
        "# 0. LBFGS is a good choice if you don't have a large batch size (i.e., a lot of initial states to consider simultaneously)\n",
        "# 1. You can also try SGD and other momentum-based methods implemented in PyTorch\n",
        "# 2. You will need to customize \"visualize\"\n",
        "# 3. loss.backward is where the gradient is calculated (d_loss/d_variables)\n",
        "# 4. self.optimizer.step(closure) is where gradient descent is done\n",
        "\n",
        "class Optimize:\n",
        "    def __init__(self, simulation):\n",
        "        self.simulation = simulation\n",
        "        self.parameters = simulation.controller.parameters()\n",
        "        self.optimizer = optim.LBFGS(self.parameters, lr=0.01)\n",
        "\n",
        "    def step(self):\n",
        "        def closure():\n",
        "            loss = self.simulation(self.simulation.state)\n",
        "            self.optimizer.zero_grad()\n",
        "            loss.backward()\n",
        "            return loss\n",
        "        self.optimizer.step(closure)\n",
        "        return closure()\n",
        "    \n",
        "    def train(self, epochs):\n",
        "        for epoch in range(epochs):\n",
        "            loss = self.step()\n",
        "            print('[%d] loss: %.3f' % (epoch + 1, loss))\n",
        "            self.visualize()\n",
        "\n",
        "    def visualize(self):\n",
        "        data = np.array([self.simulation.state_trajectory[i].detach().numpy() for i in range(self.simulation.T)])\n",
        "        x = data[:, 0]\n",
        "        y = data[:, 1]\n",
        "        plt.plot(x, y)\n",
        "        plt.show()"
      ],
      "metadata": {
        "id": "5Ve8Q11r97gu"
      },
      "execution_count": null,
      "outputs": []
    },
    {
      "cell_type": "code",
      "source": [
        "# Now it's time to run the code!\n",
        "\n",
        "T = 100  # number of time steps\n",
        "dim_input = 2  # state space dimensions\n",
        "dim_hidden = 6  # latent dimensions\n",
        "dim_output = 1  # action space dimensions\n",
        "d = Dynamics()  # define dynamics\n",
        "c = Controller(dim_input, dim_hidden, dim_output)  # define controller\n",
        "s = Simulation(c, d, T)  # define simulation\n",
        "o = Optimize(s)  # define optimizer\n",
        "o.train(40)  # solve the optimization problem"
      ],
      "metadata": {
        "id": "ZXr7WPsP9_7m"
      },
      "execution_count": null,
      "outputs": []
    }
  ]
}