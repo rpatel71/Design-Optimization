{
  "nbformat": 4,
  "nbformat_minor": 0,
  "metadata": {
    "colab": {
      "provenance": [],
      "authorship_tag": "ABX9TyOk15bIZQ0x6CZ3ChKDZzao",
      "include_colab_link": true
    },
    "kernelspec": {
      "name": "python3",
      "display_name": "Python 3"
    },
    "language_info": {
      "name": "python"
    }
  },
  "cells": [
    {
      "cell_type": "markdown",
      "metadata": {
        "id": "view-in-github",
        "colab_type": "text"
      },
      "source": [
        "<a href=\"https://colab.research.google.com/github/rpatel71/Design-Optimization/blob/main/Project_1/project_1.ipynb\" target=\"_parent\"><img src=\"https://colab.research.google.com/assets/colab-badge.svg\" alt=\"Open In Colab\"/></a>"
      ]
    },
    {
      "cell_type": "code",
      "execution_count": 1,
      "metadata": {
        "id": "m4ts27_V5npa"
      },
      "outputs": [],
      "source": [
        "import numpy as np\n",
        "import random\n",
        "import logging\n",
        "import torch as t\n",
        "import math\n",
        "import time\n",
        "from torch.nn import utils\n",
        "import torch.nn as nn\n",
        "from torch import optim \n",
        "from matplotlib import pyplot as plt\n",
        "\n",
        "logger = logging.getLogger(__name__)"
      ]
    },
    {
      "cell_type": "code",
      "source": [
        "# environment parameters\n",
        "\n",
        "FRAME_TIME = 1 # time interval\n",
        "GRAVITY_ACCEL = 9.81  # gravity constant\n",
        "BOOST_ACCEL = 400  # thrust constant\n",
        "\n",
        "\n",
        "# # the following parameters are not being used in the sample code\n",
        "# PLATFORM_WIDTH = 0.25  # landing platform width\n",
        "# PLATFORM_HEIGHT = 0.06  # landing platform height\n",
        "# ROTATION_ACCEL = 20  # rotation constant"
      ],
      "metadata": {
        "id": "AFXxq8c-8zWq"
      },
      "execution_count": null,
      "outputs": []
    },
    {
      "cell_type": "code",
      "source": [
        "# define system dynamics\n",
        "# Notes: \n",
        "# 0. You only need to modify the \"forward\" function\n",
        "# 1. All variables in \"forward\" need to be PyTorch tensors.\n",
        "# 2. All math operations in \"forward\" has to be differentiable, e.g., default PyTorch functions.\n",
        "# 3. Do not use inplace operations, e.g., x += 1. Please see the following section for an example that does not work.\n",
        "\n",
        "class Dynamics(nn.Module):\n",
        "\n",
        "    def __init__(self):\n",
        "        super(Dynamics, self).__init__()\n",
        "\n",
        "    @staticmethod\n",
        "    def forward(state, action):\n",
        "\n",
        "        \"\"\"\n",
        "        action: thrust or no thrust\n",
        "        state[0] = y\n",
        "        state[1] = y_dot\n",
        "        \"\"\"\n",
        "        \n",
        "        # Apply gravity\n",
        "        # Note: Here gravity is used to change velocity which is the second element of the state vector\n",
        "        # Normally, we would do x[1] = x[1] + gravity * delta_time\n",
        "        # but this is not allowed in PyTorch since it overwrites one variable (x[1]) that is part of the computational graph to be differentiated.\n",
        "        # Therefore, I define a tensor dx = [0., gravity * delta_time], and do x = x + dx. This is allowed... \n",
        "        delta_state_gravity = t.tensor([0., GRAVITY_ACCEL * FRAME_TIME])\n",
        "\n",
        "        # Thrust\n",
        "        # Note: Same reason as above. Need a 2-by-1 tensor.\n",
        "        delta_state = BOOST_ACCEL * FRAME_TIME * t.tensor([0., -1.]) * action\n",
        "\n",
        "        # Update velocity\n",
        "        state = state + delta_state + delta_state_gravity\n",
        "                \n",
        "        # Update state\n",
        "        # Note: Same as above. Use operators on matrices/tensors as much as possible. Do not use element-wise operators as they are considered inplace.\n",
        "        step_mat = t.tensor([[1., FRAME_TIME],\n",
        "                            [0., 1.]])\n",
        "        state = t.matmul(step_mat, state)\n",
        "\n",
        "        return state"
      ],
      "metadata": {
        "id": "5BD2DUIo8_4V"
      },
      "execution_count": null,
      "outputs": []
    }
  ]
}