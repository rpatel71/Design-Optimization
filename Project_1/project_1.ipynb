{
  "nbformat": 4,
  "nbformat_minor": 0,
  "metadata": {
    "colab": {
      "provenance": [],
      "authorship_tag": "ABX9TyMeHa2kNLzp1Rv6Da5rezsU",
      "include_colab_link": true
    },
    "kernelspec": {
      "name": "python3",
      "display_name": "Python 3"
    },
    "language_info": {
      "name": "python"
    }
  },
  "cells": [
    {
      "cell_type": "markdown",
      "metadata": {
        "id": "view-in-github",
        "colab_type": "text"
      },
      "source": [
        "<a href=\"https://colab.research.google.com/github/rpatel71/Design-Optimization/blob/main/Project_1/project_1.ipynb\" target=\"_parent\"><img src=\"https://colab.research.google.com/assets/colab-badge.svg\" alt=\"Open In Colab\"/></a>"
      ]
    },
    {
      "cell_type": "code",
      "execution_count": 1,
      "metadata": {
        "id": "m4ts27_V5npa"
      },
      "outputs": [],
      "source": [
        "import numpy as np\n",
        "import random\n",
        "import logging\n",
        "import torch as t\n",
        "import math\n",
        "import time\n",
        "from torch.nn import utils\n",
        "import torch.nn as nn\n",
        "from torch import optim \n",
        "from matplotlib import pyplot as plt\n",
        "\n",
        "logger = logging.getLogger(__name__)"
      ]
    }
  ]
}