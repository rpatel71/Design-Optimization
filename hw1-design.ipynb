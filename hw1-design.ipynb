{
 "cells": [
  {
   "cell_type": "markdown",
   "metadata": {},
   "source": [
    "Solve an Optimization Problem"
   ]
  },
  {
   "cell_type": "code",
   "execution_count": 7,
   "metadata": {},
   "outputs": [],
   "source": [
    "# importing libraries needed\n",
    "from scipy.optimize import minimize\n",
    "from scipy.optimize import Bounds\n",
    "from scipy.optimize import LinearConstraint"
   ]
  },
  {
   "cell_type": "markdown",
   "metadata": {},
   "source": [
    "Defining the given function"
   ]
  },
  {
   "cell_type": "code",
   "execution_count": 5,
   "metadata": {},
   "outputs": [],
   "source": [
    "def function(x):\n",
    "    # Given function\n",
    "    return sum((x[0]-x[1])**2 + (x[1]+x[2]-2)**2 + (x[3]-1)**2 + (x[4]-1)**2)"
   ]
  },
  {
   "cell_type": "markdown",
   "metadata": {},
   "source": [
    "Define Linear Constraints"
   ]
  },
  {
   "cell_type": "code",
   "execution_count": 8,
   "metadata": {},
   "outputs": [],
   "source": [
    "lin_const = LinearConstraint([[1, 3, 0, 0, 0], [0, 0, 1, 1, -2], [0, 1, 0, 0, -1]], [0, 0, 0, 0, 0], [0, 0, 0, 0, 0])"
   ]
  },
  {
   "cell_type": "markdown",
   "metadata": {},
   "source": [
    "Define Bounds"
   ]
  },
  {
   "cell_type": "code",
   "execution_count": 11,
   "metadata": {},
   "outputs": [],
   "source": [
    "bounds = ([-10, 10], [-10, 10], [-10, 10], [-10, 10], [-10, 10])"
   ]
  },
  {
   "cell_type": "markdown",
   "metadata": {},
   "source": [
    "Taking Initial Guess"
   ]
  },
  {
   "cell_type": "code",
   "execution_count": 12,
   "metadata": {},
   "outputs": [],
   "source": [
    "x0 = [1, 2, 3, 4, 5]"
   ]
  },
  {
   "cell_type": "markdown",
   "metadata": {},
   "source": [
    "Finding the result"
   ]
  },
  {
   "cell_type": "code",
   "execution_count": 14,
   "metadata": {},
   "outputs": [
    {
     "name": "stderr",
     "output_type": "stream",
     "text": [
      "c:\\Users\\rpatel71\\AppData\\Local\\Programs\\Python\\Python310\\lib\\site-packages\\scipy\\optimize\\_minimize.py:559: RuntimeWarning: Method BFGS cannot handle constraints nor bounds.\n",
      "  warn('Method %s cannot handle constraints nor bounds.' % method,\n"
     ]
    },
    {
     "ename": "ValueError",
     "evalue": "operands could not be broadcast together with shapes (3,) (5,) ",
     "output_type": "error",
     "traceback": [
      "\u001b[1;31m---------------------------------------------------------------------------\u001b[0m",
      "\u001b[1;31mValueError\u001b[0m                                Traceback (most recent call last)",
      "\u001b[1;32mh:\\My Drive\\ASU\\Sem 3\\MAE 598 Design Optimization\\python\\hw1-design.ipynb Cell 12\u001b[0m in \u001b[0;36m<cell line: 1>\u001b[1;34m()\u001b[0m\n\u001b[1;32m----> <a href='vscode-notebook-cell:/h%3A/My%20Drive/ASU/Sem%203/MAE%20598%20Design%20Optimization/python/hw1-design.ipynb#ch0000012?line=0'>1</a>\u001b[0m res \u001b[39m=\u001b[39m minimize(function, x0, method\u001b[39m=\u001b[39;49m\u001b[39m'\u001b[39;49m\u001b[39mBFGS\u001b[39;49m\u001b[39m'\u001b[39;49m, bounds\u001b[39m=\u001b[39;49mbounds, constraints\u001b[39m=\u001b[39;49mlin_const)\n\u001b[0;32m      <a href='vscode-notebook-cell:/h%3A/My%20Drive/ASU/Sem%203/MAE%20598%20Design%20Optimization/python/hw1-design.ipynb#ch0000012?line=1'>2</a>\u001b[0m \u001b[39mprint\u001b[39m(\u001b[39mf\u001b[39m\u001b[39m\"\u001b[39m\u001b[39mminimum values for the initial guess of \u001b[39m\u001b[39m{\u001b[39;00mx0\u001b[39m}\u001b[39;00m\u001b[39m are \u001b[39m\u001b[39m{\u001b[39;00mres\u001b[39m}\u001b[39;00m\u001b[39m\"\u001b[39m)\n",
      "File \u001b[1;32mc:\\Users\\rpatel71\\AppData\\Local\\Programs\\Python\\Python310\\lib\\site-packages\\scipy\\optimize\\_minimize.py:622\u001b[0m, in \u001b[0;36mminimize\u001b[1;34m(fun, x0, args, method, jac, hess, hessp, bounds, constraints, tol, callback, options)\u001b[0m\n\u001b[0;32m    614\u001b[0m \u001b[39mif\u001b[39;00m meth \u001b[39m==\u001b[39m \u001b[39m'\u001b[39m\u001b[39m_custom\u001b[39m\u001b[39m'\u001b[39m:\n\u001b[0;32m    615\u001b[0m     \u001b[39m# custom method called before bounds and constraints are 'standardised'\u001b[39;00m\n\u001b[0;32m    616\u001b[0m     \u001b[39m# custom method should be able to accept whatever bounds/constraints\u001b[39;00m\n\u001b[0;32m    617\u001b[0m     \u001b[39m# are provided to it.\u001b[39;00m\n\u001b[0;32m    618\u001b[0m     \u001b[39mreturn\u001b[39;00m method(fun, x0, args\u001b[39m=\u001b[39margs, jac\u001b[39m=\u001b[39mjac, hess\u001b[39m=\u001b[39mhess, hessp\u001b[39m=\u001b[39mhessp,\n\u001b[0;32m    619\u001b[0m                   bounds\u001b[39m=\u001b[39mbounds, constraints\u001b[39m=\u001b[39mconstraints,\n\u001b[0;32m    620\u001b[0m                   callback\u001b[39m=\u001b[39mcallback, \u001b[39m*\u001b[39m\u001b[39m*\u001b[39moptions)\n\u001b[1;32m--> 622\u001b[0m constraints \u001b[39m=\u001b[39m standardize_constraints(constraints, x0, meth)\n\u001b[0;32m    624\u001b[0m remove_vars \u001b[39m=\u001b[39m \u001b[39mFalse\u001b[39;00m\n\u001b[0;32m    625\u001b[0m \u001b[39mif\u001b[39;00m bounds \u001b[39mis\u001b[39;00m \u001b[39mnot\u001b[39;00m \u001b[39mNone\u001b[39;00m:\n",
      "File \u001b[1;32mc:\\Users\\rpatel71\\AppData\\Local\\Programs\\Python\\Python310\\lib\\site-packages\\scipy\\optimize\\_minimize.py:963\u001b[0m, in \u001b[0;36mstandardize_constraints\u001b[1;34m(constraints, x0, meth)\u001b[0m\n\u001b[0;32m    961\u001b[0m \u001b[39mfor\u001b[39;00m i, con \u001b[39min\u001b[39;00m \u001b[39menumerate\u001b[39m(\u001b[39mlist\u001b[39m(constraints)):\n\u001b[0;32m    962\u001b[0m     \u001b[39mif\u001b[39;00m \u001b[39misinstance\u001b[39m(con, new_constraint_types):\n\u001b[1;32m--> 963\u001b[0m         old_constraints \u001b[39m=\u001b[39m new_constraint_to_old(con, x0)\n\u001b[0;32m    964\u001b[0m         constraints[i] \u001b[39m=\u001b[39m old_constraints[\u001b[39m0\u001b[39m]\n\u001b[0;32m    965\u001b[0m         constraints\u001b[39m.\u001b[39mextend(old_constraints[\u001b[39m1\u001b[39m:])  \u001b[39m# appends 1 if present\u001b[39;00m\n",
      "File \u001b[1;32mc:\\Users\\rpatel71\\AppData\\Local\\Programs\\Python\\Python310\\lib\\site-packages\\scipy\\optimize\\_constraints.py:379\u001b[0m, in \u001b[0;36mnew_constraint_to_old\u001b[1;34m(con, x0)\u001b[0m\n\u001b[0;32m    375\u001b[0m     jac \u001b[39m=\u001b[39m \u001b[39mlambda\u001b[39;00m x: A\n\u001b[0;32m    377\u001b[0m \u001b[39m# FIXME: when bugs in VectorFunction/LinearVectorFunction are worked out,\u001b[39;00m\n\u001b[0;32m    378\u001b[0m \u001b[39m# use pcon.fun.fun and pcon.fun.jac. Until then, get fun/jac above.\u001b[39;00m\n\u001b[1;32m--> 379\u001b[0m pcon \u001b[39m=\u001b[39m PreparedConstraint(con, x0)\n\u001b[0;32m    380\u001b[0m lb, ub \u001b[39m=\u001b[39m pcon\u001b[39m.\u001b[39mbounds\n\u001b[0;32m    382\u001b[0m i_eq \u001b[39m=\u001b[39m lb \u001b[39m==\u001b[39m ub\n",
      "File \u001b[1;32mc:\\Users\\rpatel71\\AppData\\Local\\Programs\\Python\\Python310\\lib\\site-packages\\scipy\\optimize\\_constraints.py:259\u001b[0m, in \u001b[0;36mPreparedConstraint.__init__\u001b[1;34m(self, constraint, x0, sparse_jacobian, finite_diff_bounds)\u001b[0m\n\u001b[0;32m    256\u001b[0m \u001b[39mif\u001b[39;00m keep_feasible\u001b[39m.\u001b[39mshape \u001b[39m!=\u001b[39m (m,):\n\u001b[0;32m    257\u001b[0m     \u001b[39mraise\u001b[39;00m \u001b[39mValueError\u001b[39;00m(\u001b[39m\"\u001b[39m\u001b[39m`keep_feasible` has a wrong shape.\u001b[39m\u001b[39m\"\u001b[39m)\n\u001b[1;32m--> 259\u001b[0m mask \u001b[39m=\u001b[39m keep_feasible \u001b[39m&\u001b[39;49m (lb \u001b[39m!=\u001b[39;49m ub)\n\u001b[0;32m    260\u001b[0m f0 \u001b[39m=\u001b[39m fun\u001b[39m.\u001b[39mf\n\u001b[0;32m    261\u001b[0m \u001b[39mif\u001b[39;00m np\u001b[39m.\u001b[39many(f0[mask] \u001b[39m<\u001b[39m lb[mask]) \u001b[39mor\u001b[39;00m np\u001b[39m.\u001b[39many(f0[mask] \u001b[39m>\u001b[39m ub[mask]):\n",
      "\u001b[1;31mValueError\u001b[0m: operands could not be broadcast together with shapes (3,) (5,) "
     ]
    }
   ],
   "source": [
    "res = minimize(function, x0, method='BFGS', bounds=bounds, constraints=lin_const)\n",
    "print(f\"minimum values for the initial guess of {x0} are {res}\")"
   ]
  }
 ],
 "metadata": {
  "kernelspec": {
   "display_name": "Python 3.10.4 64-bit",
   "language": "python",
   "name": "python3"
  },
  "language_info": {
   "codemirror_mode": {
    "name": "ipython",
    "version": 3
   },
   "file_extension": ".py",
   "mimetype": "text/x-python",
   "name": "python",
   "nbconvert_exporter": "python",
   "pygments_lexer": "ipython3",
   "version": "3.10.4"
  },
  "orig_nbformat": 4,
  "vscode": {
   "interpreter": {
    "hash": "b057dd76b7ab979d13fd7ad982cb6c3d8710e9e0ba49514edfa3e656ea5d8725"
   }
  }
 },
 "nbformat": 4,
 "nbformat_minor": 2
}
